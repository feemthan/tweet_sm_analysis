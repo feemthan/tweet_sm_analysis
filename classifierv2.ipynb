{
 "cells": [
  {
   "cell_type": "code",
   "execution_count": 1,
   "metadata": {
    "executionInfo": {
     "elapsed": 3144,
     "status": "ok",
     "timestamp": 1630120205710,
     "user": {
      "displayName": "Keny Patel",
      "photoUrl": "",
      "userId": "00178815288974504097"
     },
     "user_tz": -330
    },
    "id": "nygpLHDmMkDR"
   },
   "outputs": [],
   "source": [
    "import pandas as pd\n",
    "import numpy as np\n",
    "import plotly.express as px\n",
    "import re\n",
    "import matplotlib.pyplot as plt\n",
    "import tensorflow\n",
    "import string\n",
    "\n",
    "pd.options.mode.chained_assignment = None "
   ]
  },
  {
   "cell_type": "code",
   "execution_count": 2,
   "metadata": {
    "colab": {
     "base_uri": "https://localhost:8080/"
    },
    "executionInfo": {
     "elapsed": 2556,
     "status": "ok",
     "timestamp": 1630120212303,
     "user": {
      "displayName": "Keny Patel",
      "photoUrl": "",
      "userId": "00178815288974504097"
     },
     "user_tz": -330
    },
    "id": "uQkscw6xMkDU",
    "outputId": "aa1057fd-fde5-4981-e8dc-a7fdc220c446"
   },
   "outputs": [
    {
     "name": "stderr",
     "output_type": "stream",
     "text": [
      "[nltk_data] Downloading package punkt to /home/feem/nltk_data...\n",
      "[nltk_data]   Package punkt is already up-to-date!\n",
      "[nltk_data] Downloading package stopwords to /home/feem/nltk_data...\n",
      "[nltk_data]   Package stopwords is already up-to-date!\n",
      "[nltk_data] Downloading package wordnet to /home/feem/nltk_data...\n",
      "[nltk_data]   Package wordnet is already up-to-date!\n",
      "/home/feem/miniconda3/envs/nlp/lib/python3.9/site-packages/gensim/similarities/__init__.py:15: UserWarning: The gensim.similarities.levenshtein submodule is disabled, because the optional Levenshtein package <https://pypi.org/project/python-Levenshtein/> is unavailable. Install Levenhstein (e.g. `pip install python-Levenshtein`) to suppress this warning.\n",
      "  warnings.warn(msg)\n"
     ]
    }
   ],
   "source": [
    "import nltk\n",
    "\n",
    "nltk.download('punkt')\n",
    "nltk.download('stopwords')\n",
    "nltk.download('wordnet')\n",
    "from nltk.corpus import stopwords\n",
    "from nltk.corpus import wordnet\n",
    "from nltk.stem import WordNetLemmatizer\n",
    "from gensim.models import Word2Vec\n",
    "lemmatizer = WordNetLemmatizer() "
   ]
  },
  {
   "cell_type": "code",
   "execution_count": 79,
   "metadata": {},
   "outputs": [],
   "source": [
    "from sklearn.preprocessing import LabelEncoder\n",
    "from sklearn.feature_extraction.text import CountVectorizer\n",
    "from sklearn.feature_extraction.text import TfidfTransformer\n",
    "\n",
    "from sklearn.model_selection import train_test_split\n",
    "\n",
    "from sklearn.naive_bayes import MultinomialNB\n",
    "from sklearn.metrics import accuracy_score\n",
    "from sklearn import metrics\n",
    "from sklearn.ensemble import GradientBoostingClassifier\n",
    "from tensorflow.keras.preprocessing.text import Tokenizer\n",
    "\n",
    "from sklearn.ensemble import RandomForestClassifier\n",
    "\n",
    "import tensorflow.keras.preprocessing.sequence as ps\n",
    "from sklearn.preprocessing import OneHotEncoder\n",
    "from keras.models import Sequential\n",
    "from keras.layers import Dense, Embedding,Dropout\n",
    "\n",
    "\n",
    "from keras.layers import GlobalAveragePooling1D\n"
   ]
  },
  {
   "cell_type": "code",
   "execution_count": 35,
   "metadata": {
    "executionInfo": {
     "elapsed": 425,
     "status": "ok",
     "timestamp": 1630120389780,
     "user": {
      "displayName": "Keny Patel",
      "photoUrl": "",
      "userId": "00178815288974504097"
     },
     "user_tz": -330
    },
    "id": "4xTHNbpeMkDV"
   },
   "outputs": [],
   "source": [
    "dataset = pd.read_csv('tweets.csv')\n",
    "train_data = dataset.sample(frac=0.9, random_state=25)\n",
    "test_data = dataset.drop(train_data.index)\n"
   ]
  },
  {
   "cell_type": "code",
   "execution_count": 36,
   "metadata": {},
   "outputs": [
    {
     "data": {
      "text/plain": [
       "(410, 8)"
      ]
     },
     "execution_count": 36,
     "metadata": {},
     "output_type": "execute_result"
    }
   ],
   "source": [
    "test_data.shape"
   ]
  },
  {
   "cell_type": "code",
   "execution_count": 37,
   "metadata": {
    "colab": {
     "base_uri": "https://localhost:8080/",
     "height": 203
    },
    "executionInfo": {
     "elapsed": 624,
     "status": "ok",
     "timestamp": 1630120391339,
     "user": {
      "displayName": "Keny Patel",
      "photoUrl": "",
      "userId": "00178815288974504097"
     },
     "user_tz": -330
    },
    "id": "XxAqSf1VMkDV",
    "outputId": "05d46c40-188e-40a1-acd2-a1fbd5acee59"
   },
   "outputs": [
    {
     "data": {
      "text/html": [
       "<div>\n",
       "<style scoped>\n",
       "    .dataframe tbody tr th:only-of-type {\n",
       "        vertical-align: middle;\n",
       "    }\n",
       "\n",
       "    .dataframe tbody tr th {\n",
       "        vertical-align: top;\n",
       "    }\n",
       "\n",
       "    .dataframe thead th {\n",
       "        text-align: right;\n",
       "    }\n",
       "</style>\n",
       "<table border=\"1\" class=\"dataframe\">\n",
       "  <thead>\n",
       "    <tr style=\"text-align: right;\">\n",
       "      <th></th>\n",
       "      <th>tweet</th>\n",
       "      <th>twitterHandlerused</th>\n",
       "      <th>label</th>\n",
       "      <th>fasttext_labels</th>\n",
       "      <th>Comparison_human&amp;ft</th>\n",
       "      <th>Labels_Manish_Krishna_Anu_Harvinder</th>\n",
       "      <th>2nd review</th>\n",
       "      <th>Final_labels</th>\n",
       "    </tr>\n",
       "  </thead>\n",
       "  <tbody>\n",
       "    <tr>\n",
       "      <th>2914</th>\n",
       "      <td>@Vishen @mindvalley @SadhguruJV Eagerly waitin...</td>\n",
       "      <td>@mindvalley</td>\n",
       "      <td>Neutral</td>\n",
       "      <td>Neutral</td>\n",
       "      <td>NaN</td>\n",
       "      <td>NaN</td>\n",
       "      <td>NaN</td>\n",
       "      <td>Neutral</td>\n",
       "    </tr>\n",
       "    <tr>\n",
       "      <th>2038</th>\n",
       "      <td>@TonyRobbins Hey, guys! I created a YouTube ch...</td>\n",
       "      <td>@tonyrobbins</td>\n",
       "      <td>Neutral</td>\n",
       "      <td>Neutral</td>\n",
       "      <td>NaN</td>\n",
       "      <td>NaN</td>\n",
       "      <td>NaN</td>\n",
       "      <td>Neutral</td>\n",
       "    </tr>\n",
       "    <tr>\n",
       "      <th>3785</th>\n",
       "      <td>@HSBC_UK I have been on hold and spoken to 3 a...</td>\n",
       "      <td>HSBC_UK</td>\n",
       "      <td>Negative</td>\n",
       "      <td>Negative</td>\n",
       "      <td>NaN</td>\n",
       "      <td>NaN</td>\n",
       "      <td>NaN</td>\n",
       "      <td>Negative</td>\n",
       "    </tr>\n",
       "    <tr>\n",
       "      <th>2322</th>\n",
       "      <td>RT @johnassaraf: The moment you change your pe...</td>\n",
       "      <td>@johnassaraf</td>\n",
       "      <td>Neutral</td>\n",
       "      <td>Neutral</td>\n",
       "      <td>NaN</td>\n",
       "      <td>NaN</td>\n",
       "      <td>NaN</td>\n",
       "      <td>Neutral</td>\n",
       "    </tr>\n",
       "    <tr>\n",
       "      <th>3244</th>\n",
       "      <td>Enjoyed this conversation with @mindvalley on ...</td>\n",
       "      <td>@mindvalley</td>\n",
       "      <td>Neutral</td>\n",
       "      <td>Neutral</td>\n",
       "      <td>NaN</td>\n",
       "      <td>NaN</td>\n",
       "      <td>NaN</td>\n",
       "      <td>Neutral</td>\n",
       "    </tr>\n",
       "  </tbody>\n",
       "</table>\n",
       "</div>"
      ],
      "text/plain": [
       "                                                  tweet twitterHandlerused  \\\n",
       "2914  @Vishen @mindvalley @SadhguruJV Eagerly waitin...        @mindvalley   \n",
       "2038  @TonyRobbins Hey, guys! I created a YouTube ch...       @tonyrobbins   \n",
       "3785  @HSBC_UK I have been on hold and spoken to 3 a...            HSBC_UK   \n",
       "2322  RT @johnassaraf: The moment you change your pe...       @johnassaraf   \n",
       "3244  Enjoyed this conversation with @mindvalley on ...        @mindvalley   \n",
       "\n",
       "         label fasttext_labels Comparison_human&ft  \\\n",
       "2914   Neutral         Neutral                 NaN   \n",
       "2038   Neutral         Neutral                 NaN   \n",
       "3785  Negative        Negative                 NaN   \n",
       "2322   Neutral         Neutral                 NaN   \n",
       "3244   Neutral         Neutral                 NaN   \n",
       "\n",
       "     Labels_Manish_Krishna_Anu_Harvinder  2nd review Final_labels  \n",
       "2914                                 NaN         NaN      Neutral  \n",
       "2038                                 NaN         NaN      Neutral  \n",
       "3785                                 NaN         NaN     Negative  \n",
       "2322                                 NaN         NaN      Neutral  \n",
       "3244                                 NaN         NaN      Neutral  "
      ]
     },
     "execution_count": 37,
     "metadata": {},
     "output_type": "execute_result"
    }
   ],
   "source": [
    "train_data.head()"
   ]
  },
  {
   "cell_type": "code",
   "execution_count": 38,
   "metadata": {
    "colab": {
     "base_uri": "https://localhost:8080/",
     "height": 203
    },
    "executionInfo": {
     "elapsed": 19,
     "status": "ok",
     "timestamp": 1630120391339,
     "user": {
      "displayName": "Keny Patel",
      "photoUrl": "",
      "userId": "00178815288974504097"
     },
     "user_tz": -330
    },
    "id": "bPmNOZF_MkDW",
    "outputId": "fe280333-f06c-47b5-c16a-e65a2408411a"
   },
   "outputs": [
    {
     "data": {
      "text/html": [
       "<div>\n",
       "<style scoped>\n",
       "    .dataframe tbody tr th:only-of-type {\n",
       "        vertical-align: middle;\n",
       "    }\n",
       "\n",
       "    .dataframe tbody tr th {\n",
       "        vertical-align: top;\n",
       "    }\n",
       "\n",
       "    .dataframe thead th {\n",
       "        text-align: right;\n",
       "    }\n",
       "</style>\n",
       "<table border=\"1\" class=\"dataframe\">\n",
       "  <thead>\n",
       "    <tr style=\"text-align: right;\">\n",
       "      <th></th>\n",
       "      <th>tweet</th>\n",
       "      <th>twitterHandlerused</th>\n",
       "      <th>label</th>\n",
       "      <th>fasttext_labels</th>\n",
       "      <th>Comparison_human&amp;ft</th>\n",
       "      <th>Labels_Manish_Krishna_Anu_Harvinder</th>\n",
       "      <th>2nd review</th>\n",
       "      <th>Final_labels</th>\n",
       "    </tr>\n",
       "  </thead>\n",
       "  <tbody>\n",
       "    <tr>\n",
       "      <th>10</th>\n",
       "      <td>@mindvalley At last!! The moment I've been wai...</td>\n",
       "      <td>@mindvalley</td>\n",
       "      <td>Positive</td>\n",
       "      <td>Positive</td>\n",
       "      <td>NaN</td>\n",
       "      <td>NaN</td>\n",
       "      <td>NaN</td>\n",
       "      <td>Positive</td>\n",
       "    </tr>\n",
       "    <tr>\n",
       "      <th>14</th>\n",
       "      <td>RT @mindvalley: ÃƒÂ°Ã…Â¸Ã¢â‚¬ËœÃ¢â‚¬Â¡ Let us ...</td>\n",
       "      <td>@mindvalley</td>\n",
       "      <td>Neutral</td>\n",
       "      <td>Neutral</td>\n",
       "      <td>NaN</td>\n",
       "      <td>NaN</td>\n",
       "      <td>NaN</td>\n",
       "      <td>Neutral</td>\n",
       "    </tr>\n",
       "    <tr>\n",
       "      <th>20</th>\n",
       "      <td>@mindvalley You are the best</td>\n",
       "      <td>@mindvalley</td>\n",
       "      <td>Positive</td>\n",
       "      <td>Positive</td>\n",
       "      <td>NaN</td>\n",
       "      <td>NaN</td>\n",
       "      <td>NaN</td>\n",
       "      <td>Positive</td>\n",
       "    </tr>\n",
       "    <tr>\n",
       "      <th>22</th>\n",
       "      <td>You all better join the FREE @mindvalley SUMMI...</td>\n",
       "      <td>@mindvalley</td>\n",
       "      <td>Neutral</td>\n",
       "      <td>Neutral</td>\n",
       "      <td>NaN</td>\n",
       "      <td>NaN</td>\n",
       "      <td>NaN</td>\n",
       "      <td>Neutral</td>\n",
       "    </tr>\n",
       "    <tr>\n",
       "      <th>25</th>\n",
       "      <td>@AstroGann33 @mindvalley Lucid dreams since yo...</td>\n",
       "      <td>@mindvalley</td>\n",
       "      <td>Positive</td>\n",
       "      <td>Positive</td>\n",
       "      <td>NaN</td>\n",
       "      <td>NaN</td>\n",
       "      <td>NaN</td>\n",
       "      <td>Positive</td>\n",
       "    </tr>\n",
       "  </tbody>\n",
       "</table>\n",
       "</div>"
      ],
      "text/plain": [
       "                                                tweet twitterHandlerused  \\\n",
       "10  @mindvalley At last!! The moment I've been wai...        @mindvalley   \n",
       "14  RT @mindvalley: ÃƒÂ°Ã…Â¸Ã¢â‚¬ËœÃ¢â‚¬Â¡ Let us ...        @mindvalley   \n",
       "20                       @mindvalley You are the best        @mindvalley   \n",
       "22  You all better join the FREE @mindvalley SUMMI...        @mindvalley   \n",
       "25  @AstroGann33 @mindvalley Lucid dreams since yo...        @mindvalley   \n",
       "\n",
       "       label fasttext_labels Comparison_human&ft  \\\n",
       "10  Positive        Positive                 NaN   \n",
       "14   Neutral         Neutral                 NaN   \n",
       "20  Positive        Positive                 NaN   \n",
       "22   Neutral         Neutral                 NaN   \n",
       "25  Positive        Positive                 NaN   \n",
       "\n",
       "   Labels_Manish_Krishna_Anu_Harvinder  2nd review Final_labels  \n",
       "10                                 NaN         NaN     Positive  \n",
       "14                                 NaN         NaN      Neutral  \n",
       "20                                 NaN         NaN     Positive  \n",
       "22                                 NaN         NaN      Neutral  \n",
       "25                                 NaN         NaN     Positive  "
      ]
     },
     "execution_count": 38,
     "metadata": {},
     "output_type": "execute_result"
    }
   ],
   "source": [
    "test_data.head()"
   ]
  },
  {
   "cell_type": "code",
   "execution_count": 39,
   "metadata": {
    "executionInfo": {
     "elapsed": 13,
     "status": "ok",
     "timestamp": 1630120391340,
     "user": {
      "displayName": "Keny Patel",
      "photoUrl": "",
      "userId": "00178815288974504097"
     },
     "user_tz": -330
    },
    "id": "KDiH6eqBMkDY"
   },
   "outputs": [],
   "source": [
    "train_data.drop(['twitterHandlerused', 'Final_labels', 'fasttext_labels', 'Comparison_human&ft', 'Labels_Manish_Krishna_Anu_Harvinder', '2nd review'],axis=1,inplace=True)\n",
    "test_data.drop( ['twitterHandlerused', 'Final_labels', 'fasttext_labels', 'Comparison_human&ft', 'Labels_Manish_Krishna_Anu_Harvinder', '2nd review'],axis=1,inplace=True)"
   ]
  },
  {
   "cell_type": "code",
   "execution_count": 40,
   "metadata": {
    "colab": {
     "base_uri": "https://localhost:8080/",
     "height": 203
    },
    "executionInfo": {
     "elapsed": 12,
     "status": "ok",
     "timestamp": 1630120391340,
     "user": {
      "displayName": "Keny Patel",
      "photoUrl": "",
      "userId": "00178815288974504097"
     },
     "user_tz": -330
    },
    "id": "BXcufV-uMkDZ",
    "outputId": "81d3a63e-4836-4100-d47c-6b484b6473ee"
   },
   "outputs": [
    {
     "data": {
      "text/html": [
       "<div>\n",
       "<style scoped>\n",
       "    .dataframe tbody tr th:only-of-type {\n",
       "        vertical-align: middle;\n",
       "    }\n",
       "\n",
       "    .dataframe tbody tr th {\n",
       "        vertical-align: top;\n",
       "    }\n",
       "\n",
       "    .dataframe thead th {\n",
       "        text-align: right;\n",
       "    }\n",
       "</style>\n",
       "<table border=\"1\" class=\"dataframe\">\n",
       "  <thead>\n",
       "    <tr style=\"text-align: right;\">\n",
       "      <th></th>\n",
       "      <th>tweet</th>\n",
       "      <th>label</th>\n",
       "    </tr>\n",
       "  </thead>\n",
       "  <tbody>\n",
       "    <tr>\n",
       "      <th>2914</th>\n",
       "      <td>@Vishen @mindvalley @SadhguruJV Eagerly waitin...</td>\n",
       "      <td>Neutral</td>\n",
       "    </tr>\n",
       "    <tr>\n",
       "      <th>2038</th>\n",
       "      <td>@TonyRobbins Hey, guys! I created a YouTube ch...</td>\n",
       "      <td>Neutral</td>\n",
       "    </tr>\n",
       "    <tr>\n",
       "      <th>3785</th>\n",
       "      <td>@HSBC_UK I have been on hold and spoken to 3 a...</td>\n",
       "      <td>Negative</td>\n",
       "    </tr>\n",
       "    <tr>\n",
       "      <th>2322</th>\n",
       "      <td>RT @johnassaraf: The moment you change your pe...</td>\n",
       "      <td>Neutral</td>\n",
       "    </tr>\n",
       "    <tr>\n",
       "      <th>3244</th>\n",
       "      <td>Enjoyed this conversation with @mindvalley on ...</td>\n",
       "      <td>Neutral</td>\n",
       "    </tr>\n",
       "  </tbody>\n",
       "</table>\n",
       "</div>"
      ],
      "text/plain": [
       "                                                  tweet     label\n",
       "2914  @Vishen @mindvalley @SadhguruJV Eagerly waitin...   Neutral\n",
       "2038  @TonyRobbins Hey, guys! I created a YouTube ch...   Neutral\n",
       "3785  @HSBC_UK I have been on hold and spoken to 3 a...  Negative\n",
       "2322  RT @johnassaraf: The moment you change your pe...   Neutral\n",
       "3244  Enjoyed this conversation with @mindvalley on ...   Neutral"
      ]
     },
     "execution_count": 40,
     "metadata": {},
     "output_type": "execute_result"
    }
   ],
   "source": [
    "train_data.head()"
   ]
  },
  {
   "cell_type": "code",
   "execution_count": 41,
   "metadata": {
    "executionInfo": {
     "elapsed": 8,
     "status": "ok",
     "timestamp": 1630120395444,
     "user": {
      "displayName": "Keny Patel",
      "photoUrl": "",
      "userId": "00178815288974504097"
     },
     "user_tz": -330
    },
    "id": "YDUZ2p4SMkDm"
   },
   "outputs": [],
   "source": [
    "\n",
    "def data_cleaning(data):\n",
    "    cleaned_data = []\n",
    "    fillerWord = (\"so\",\"yeah\",\"okay\",\"um\",\"uh\",\"mmm\",\"ahan\",\"uh\",\"huh\",\"ahm\",\"oh\",\"sooo\",\"uh\",\"huh\",\"yeh\",\"yah\",\"hmm\",\"bye\")\n",
    "    fillerword_reg= \"bye[.,]|so[.,]|yeah[.,]|okay[.,]|um[.,]|uh[.,]|mmm[.,]|ahan[.,]|uh[.,]|huh[.,]|ahm[.,]|oh[.,]|sooo[.,]|uh[.,]|huh[.,]|yeh[.,]|yah[.,]|hmm[.,]\"\n",
    "    STOPWORDS = set(stopwords.words('english'))\n",
    "    remove=[\"doesn't\",\"not\",\"nor\",\"neither\",\"isn't\",\"hadn't\",\"mightn't\",\"needn't\",\"wasn't\"]\n",
    "    for i in remove:\n",
    "        STOPWORDS.discard(i)\n",
    "    \n",
    "    STOPWORDS.add(fillerWord)\n",
    "    for i in range(len(data)):\n",
    "        tweet = re.sub(\"#\", \"\", data[i])\n",
    "        tweet = re.sub(r'^https?:\\/\\/.*[\\r\\n]*', '',tweet, flags=re.MULTILINE)\n",
    "        html=re.compile(r'<.*?>')\n",
    "        tweet =html.sub(r\"\", tweet)\n",
    "        tweet=re.sub(r'@\\w+',\"\",tweet)\n",
    "        tweet=re.sub(r'#\\w+',\"\",tweet) \n",
    "        tweet=re.sub(r'\\w+:\\/{2}[\\d\\w-]+(\\.[\\d\\w-]+)*(?:(?:\\/[^\\s/]*))*', '', tweet) \n",
    "        punctuation = r\"\"\"!\"$%&'()*+,-./:;<=>?@[\\]^_`{|}~\"\"\"\n",
    "        tweet.rstrip(string.punctuation)\n",
    "        tweet=re.sub('[^A-Za-z\\s]+',\"\", tweet)\n",
    "        tweet = tweet.lower()\n",
    "        tweet = tweet.split()\n",
    "        #Lemmatization to normalise text\n",
    "        tweet = [lemmatizer.lemmatize(word) for word in tweet if not word in STOPWORDS]\n",
    "        tweet = ' '.join(tweet)\n",
    "        filler=re.compile(fillerword_reg)\n",
    "        tweet=filler.sub(\"\",tweet)\n",
    "        cleaned_data.append(tweet)\n",
    "    return cleaned_data"
   ]
  },
  {
   "cell_type": "code",
   "execution_count": 42,
   "metadata": {},
   "outputs": [
    {
     "data": {
      "text/html": [
       "<div>\n",
       "<style scoped>\n",
       "    .dataframe tbody tr th:only-of-type {\n",
       "        vertical-align: middle;\n",
       "    }\n",
       "\n",
       "    .dataframe tbody tr th {\n",
       "        vertical-align: top;\n",
       "    }\n",
       "\n",
       "    .dataframe thead th {\n",
       "        text-align: right;\n",
       "    }\n",
       "</style>\n",
       "<table border=\"1\" class=\"dataframe\">\n",
       "  <thead>\n",
       "    <tr style=\"text-align: right;\">\n",
       "      <th></th>\n",
       "      <th>tweet</th>\n",
       "      <th>label</th>\n",
       "    </tr>\n",
       "  </thead>\n",
       "  <tbody>\n",
       "    <tr>\n",
       "      <th>2914</th>\n",
       "      <td>@Vishen @mindvalley @SadhguruJV Eagerly waitin...</td>\n",
       "      <td>Neutral</td>\n",
       "    </tr>\n",
       "    <tr>\n",
       "      <th>2038</th>\n",
       "      <td>@TonyRobbins Hey, guys! I created a YouTube ch...</td>\n",
       "      <td>Neutral</td>\n",
       "    </tr>\n",
       "    <tr>\n",
       "      <th>3785</th>\n",
       "      <td>@HSBC_UK I have been on hold and spoken to 3 a...</td>\n",
       "      <td>Negative</td>\n",
       "    </tr>\n",
       "    <tr>\n",
       "      <th>2322</th>\n",
       "      <td>RT @johnassaraf: The moment you change your pe...</td>\n",
       "      <td>Neutral</td>\n",
       "    </tr>\n",
       "    <tr>\n",
       "      <th>3244</th>\n",
       "      <td>Enjoyed this conversation with @mindvalley on ...</td>\n",
       "      <td>Neutral</td>\n",
       "    </tr>\n",
       "  </tbody>\n",
       "</table>\n",
       "</div>"
      ],
      "text/plain": [
       "                                                  tweet     label\n",
       "2914  @Vishen @mindvalley @SadhguruJV Eagerly waitin...   Neutral\n",
       "2038  @TonyRobbins Hey, guys! I created a YouTube ch...   Neutral\n",
       "3785  @HSBC_UK I have been on hold and spoken to 3 a...  Negative\n",
       "2322  RT @johnassaraf: The moment you change your pe...   Neutral\n",
       "3244  Enjoyed this conversation with @mindvalley on ...   Neutral"
      ]
     },
     "execution_count": 42,
     "metadata": {},
     "output_type": "execute_result"
    }
   ],
   "source": [
    "train_data.head()"
   ]
  },
  {
   "cell_type": "code",
   "execution_count": 43,
   "metadata": {},
   "outputs": [
    {
     "data": {
      "text/html": [
       "<div>\n",
       "<style scoped>\n",
       "    .dataframe tbody tr th:only-of-type {\n",
       "        vertical-align: middle;\n",
       "    }\n",
       "\n",
       "    .dataframe tbody tr th {\n",
       "        vertical-align: top;\n",
       "    }\n",
       "\n",
       "    .dataframe thead th {\n",
       "        text-align: right;\n",
       "    }\n",
       "</style>\n",
       "<table border=\"1\" class=\"dataframe\">\n",
       "  <thead>\n",
       "    <tr style=\"text-align: right;\">\n",
       "      <th></th>\n",
       "      <th>tweet</th>\n",
       "      <th>label</th>\n",
       "    </tr>\n",
       "  </thead>\n",
       "  <tbody>\n",
       "    <tr>\n",
       "      <th>2914</th>\n",
       "      <td>@Vishen @mindvalley @SadhguruJV Eagerly waitin...</td>\n",
       "      <td>Neutral</td>\n",
       "    </tr>\n",
       "    <tr>\n",
       "      <th>2038</th>\n",
       "      <td>@TonyRobbins Hey, guys! I created a YouTube ch...</td>\n",
       "      <td>Neutral</td>\n",
       "    </tr>\n",
       "    <tr>\n",
       "      <th>3785</th>\n",
       "      <td>@HSBC_UK I have been on hold and spoken to 3 a...</td>\n",
       "      <td>Negative</td>\n",
       "    </tr>\n",
       "    <tr>\n",
       "      <th>2322</th>\n",
       "      <td>RT @johnassaraf: The moment you change your pe...</td>\n",
       "      <td>Neutral</td>\n",
       "    </tr>\n",
       "    <tr>\n",
       "      <th>3244</th>\n",
       "      <td>Enjoyed this conversation with @mindvalley on ...</td>\n",
       "      <td>Neutral</td>\n",
       "    </tr>\n",
       "    <tr>\n",
       "      <th>...</th>\n",
       "      <td>...</td>\n",
       "      <td>...</td>\n",
       "    </tr>\n",
       "    <tr>\n",
       "      <th>2578</th>\n",
       "      <td>@STELLJUNparin @SB19Official 78\\n\\n\"The only i...</td>\n",
       "      <td>Neutral</td>\n",
       "    </tr>\n",
       "    <tr>\n",
       "      <th>1289</th>\n",
       "      <td>The past does not equal the future. - @TonyRob...</td>\n",
       "      <td>Neutral</td>\n",
       "    </tr>\n",
       "    <tr>\n",
       "      <th>1281</th>\n",
       "      <td>I am jumping, writing, and working with @TonyR...</td>\n",
       "      <td>Neutral</td>\n",
       "    </tr>\n",
       "    <tr>\n",
       "      <th>3162</th>\n",
       "      <td>@mindvalley Actually....why to discuss about w...</td>\n",
       "      <td>Neutral</td>\n",
       "    </tr>\n",
       "    <tr>\n",
       "      <th>1049</th>\n",
       "      <td>RT @harrypetsanis: ÃƒÂ¢Ã¢â€šÂ¬Ã…â€œPut Your Ti...</td>\n",
       "      <td>Neutral</td>\n",
       "    </tr>\n",
       "  </tbody>\n",
       "</table>\n",
       "<p>3694 rows × 2 columns</p>\n",
       "</div>"
      ],
      "text/plain": [
       "                                                  tweet     label\n",
       "2914  @Vishen @mindvalley @SadhguruJV Eagerly waitin...   Neutral\n",
       "2038  @TonyRobbins Hey, guys! I created a YouTube ch...   Neutral\n",
       "3785  @HSBC_UK I have been on hold and spoken to 3 a...  Negative\n",
       "2322  RT @johnassaraf: The moment you change your pe...   Neutral\n",
       "3244  Enjoyed this conversation with @mindvalley on ...   Neutral\n",
       "...                                                 ...       ...\n",
       "2578  @STELLJUNparin @SB19Official 78\\n\\n\"The only i...   Neutral\n",
       "1289  The past does not equal the future. - @TonyRob...   Neutral\n",
       "1281  I am jumping, writing, and working with @TonyR...   Neutral\n",
       "3162  @mindvalley Actually....why to discuss about w...   Neutral\n",
       "1049  RT @harrypetsanis: ÃƒÂ¢Ã¢â€šÂ¬Ã…â€œPut Your Ti...   Neutral\n",
       "\n",
       "[3694 rows x 2 columns]"
      ]
     },
     "execution_count": 43,
     "metadata": {},
     "output_type": "execute_result"
    }
   ],
   "source": [
    "train_data"
   ]
  },
  {
   "cell_type": "code",
   "execution_count": 44,
   "metadata": {
    "colab": {
     "base_uri": "https://localhost:8080/",
     "height": 203
    },
    "executionInfo": {
     "elapsed": 6914,
     "status": "ok",
     "timestamp": 1630120402350,
     "user": {
      "displayName": "Keny Patel",
      "photoUrl": "",
      "userId": "00178815288974504097"
     },
     "user_tz": -330
    },
    "id": "PkEdCp-4MkDm",
    "outputId": "c4f9498b-4929-4a19-dafd-da48a21413df"
   },
   "outputs": [
    {
     "data": {
      "text/html": [
       "<div>\n",
       "<style scoped>\n",
       "    .dataframe tbody tr th:only-of-type {\n",
       "        vertical-align: middle;\n",
       "    }\n",
       "\n",
       "    .dataframe tbody tr th {\n",
       "        vertical-align: top;\n",
       "    }\n",
       "\n",
       "    .dataframe thead th {\n",
       "        text-align: right;\n",
       "    }\n",
       "</style>\n",
       "<table border=\"1\" class=\"dataframe\">\n",
       "  <thead>\n",
       "    <tr style=\"text-align: right;\">\n",
       "      <th></th>\n",
       "      <th>tweet</th>\n",
       "      <th>label</th>\n",
       "      <th>CleanedTweet</th>\n",
       "    </tr>\n",
       "  </thead>\n",
       "  <tbody>\n",
       "    <tr>\n",
       "      <th>2914</th>\n",
       "      <td>@Vishen @mindvalley @SadhguruJV Eagerly waitin...</td>\n",
       "      <td>Neutral</td>\n",
       "      <td>eagerly waiting</td>\n",
       "    </tr>\n",
       "    <tr>\n",
       "      <th>2038</th>\n",
       "      <td>@TonyRobbins Hey, guys! I created a YouTube ch...</td>\n",
       "      <td>Neutral</td>\n",
       "      <td>hey guy created youtube channel marketing stra...</td>\n",
       "    </tr>\n",
       "    <tr>\n",
       "      <th>3785</th>\n",
       "      <td>@HSBC_UK I have been on hold and spoken to 3 a...</td>\n",
       "      <td>Negative</td>\n",
       "      <td>hold spoken agent hour morning transferred lin...</td>\n",
       "    </tr>\n",
       "    <tr>\n",
       "      <th>2322</th>\n",
       "      <td>RT @johnassaraf: The moment you change your pe...</td>\n",
       "      <td>Neutral</td>\n",
       "      <td>rt moment change perception moment rewrite che...</td>\n",
       "    </tr>\n",
       "    <tr>\n",
       "      <th>3244</th>\n",
       "      <td>Enjoyed this conversation with @mindvalley on ...</td>\n",
       "      <td>Neutral</td>\n",
       "      <td>enjoyed conversation never make bad decision c...</td>\n",
       "    </tr>\n",
       "  </tbody>\n",
       "</table>\n",
       "</div>"
      ],
      "text/plain": [
       "                                                  tweet     label  \\\n",
       "2914  @Vishen @mindvalley @SadhguruJV Eagerly waitin...   Neutral   \n",
       "2038  @TonyRobbins Hey, guys! I created a YouTube ch...   Neutral   \n",
       "3785  @HSBC_UK I have been on hold and spoken to 3 a...  Negative   \n",
       "2322  RT @johnassaraf: The moment you change your pe...   Neutral   \n",
       "3244  Enjoyed this conversation with @mindvalley on ...   Neutral   \n",
       "\n",
       "                                           CleanedTweet  \n",
       "2914                                    eagerly waiting  \n",
       "2038  hey guy created youtube channel marketing stra...  \n",
       "3785  hold spoken agent hour morning transferred lin...  \n",
       "2322  rt moment change perception moment rewrite che...  \n",
       "3244  enjoyed conversation never make bad decision c...  "
      ]
     },
     "execution_count": 44,
     "metadata": {},
     "output_type": "execute_result"
    }
   ],
   "source": [
    "texto_data=train_data['tweet'].tolist()\n",
    "process_text=data_cleaning(texto_data)\n",
    "\n",
    "cleaned_tweet =pd.DataFrame(process_text)\n",
    "train_data = train_data.assign(CleanedTweet=cleaned_tweet.values)\n",
    "\n",
    "train_data.head()"
   ]
  },
  {
   "cell_type": "code",
   "execution_count": 45,
   "metadata": {},
   "outputs": [
    {
     "data": {
      "text/html": [
       "<div>\n",
       "<style scoped>\n",
       "    .dataframe tbody tr th:only-of-type {\n",
       "        vertical-align: middle;\n",
       "    }\n",
       "\n",
       "    .dataframe tbody tr th {\n",
       "        vertical-align: top;\n",
       "    }\n",
       "\n",
       "    .dataframe thead th {\n",
       "        text-align: right;\n",
       "    }\n",
       "</style>\n",
       "<table border=\"1\" class=\"dataframe\">\n",
       "  <thead>\n",
       "    <tr style=\"text-align: right;\">\n",
       "      <th></th>\n",
       "      <th>tweet</th>\n",
       "      <th>label</th>\n",
       "      <th>CleanedTweet</th>\n",
       "    </tr>\n",
       "  </thead>\n",
       "  <tbody>\n",
       "    <tr>\n",
       "      <th>10</th>\n",
       "      <td>@mindvalley At last!! The moment I've been wai...</td>\n",
       "      <td>Positive</td>\n",
       "      <td>last moment ive waiting thank thank excited se...</td>\n",
       "    </tr>\n",
       "    <tr>\n",
       "      <th>14</th>\n",
       "      <td>RT @mindvalley: ÃƒÂ°Ã…Â¸Ã¢â‚¬ËœÃ¢â‚¬Â¡ Let us ...</td>\n",
       "      <td>Neutral</td>\n",
       "      <td>rt let u know excited mindvalleysummit best co...</td>\n",
       "    </tr>\n",
       "    <tr>\n",
       "      <th>20</th>\n",
       "      <td>@mindvalley You are the best</td>\n",
       "      <td>Positive</td>\n",
       "      <td>best</td>\n",
       "    </tr>\n",
       "    <tr>\n",
       "      <th>22</th>\n",
       "      <td>You all better join the FREE @mindvalley SUMMI...</td>\n",
       "      <td>Neutral</td>\n",
       "      <td>better join free summit happening thth june</td>\n",
       "    </tr>\n",
       "    <tr>\n",
       "      <th>25</th>\n",
       "      <td>@AstroGann33 @mindvalley Lucid dreams since yo...</td>\n",
       "      <td>Positive</td>\n",
       "      <td>lucid dream since young age went away came bac...</td>\n",
       "    </tr>\n",
       "  </tbody>\n",
       "</table>\n",
       "</div>"
      ],
      "text/plain": [
       "                                                tweet     label  \\\n",
       "10  @mindvalley At last!! The moment I've been wai...  Positive   \n",
       "14  RT @mindvalley: ÃƒÂ°Ã…Â¸Ã¢â‚¬ËœÃ¢â‚¬Â¡ Let us ...   Neutral   \n",
       "20                       @mindvalley You are the best  Positive   \n",
       "22  You all better join the FREE @mindvalley SUMMI...   Neutral   \n",
       "25  @AstroGann33 @mindvalley Lucid dreams since yo...  Positive   \n",
       "\n",
       "                                         CleanedTweet  \n",
       "10  last moment ive waiting thank thank excited se...  \n",
       "14  rt let u know excited mindvalleysummit best co...  \n",
       "20                                               best  \n",
       "22        better join free summit happening thth june  \n",
       "25  lucid dream since young age went away came bac...  "
      ]
     },
     "execution_count": 45,
     "metadata": {},
     "output_type": "execute_result"
    }
   ],
   "source": [
    "texto_data=test_data['tweet'].tolist()\n",
    "process_text=data_cleaning(texto_data)\n",
    "\n",
    "cleaned_tweet =pd.DataFrame(process_text)\n",
    "test_data = test_data.assign(CleanedTweet=cleaned_tweet.values)\n",
    "\n",
    "test_data.head()"
   ]
  },
  {
   "cell_type": "code",
   "execution_count": 46,
   "metadata": {
    "executionInfo": {
     "elapsed": 4,
     "status": "ok",
     "timestamp": 1630120404153,
     "user": {
      "displayName": "Keny Patel",
      "photoUrl": "",
      "userId": "00178815288974504097"
     },
     "user_tz": -330
    },
    "id": "Rq93xzXTMkDo"
   },
   "outputs": [],
   "source": [
    "X_train = train_data.CleanedTweet\n",
    "Y_train = train_data.label"
   ]
  },
  {
   "cell_type": "code",
   "execution_count": 47,
   "metadata": {
    "colab": {
     "base_uri": "https://localhost:8080/"
    },
    "executionInfo": {
     "elapsed": 30,
     "status": "ok",
     "timestamp": 1630120404829,
     "user": {
      "displayName": "Keny Patel",
      "photoUrl": "",
      "userId": "00178815288974504097"
     },
     "user_tz": -330
    },
    "id": "i7IAcfAkMkDo",
    "outputId": "85a27c64-5f17-461d-ee7d-91503ece62b9"
   },
   "outputs": [
    {
     "data": {
      "text/plain": [
       "(3694,)"
      ]
     },
     "execution_count": 47,
     "metadata": {},
     "output_type": "execute_result"
    }
   ],
   "source": [
    "Y_train = train_data.label\n",
    "Y_train.shape"
   ]
  },
  {
   "cell_type": "code",
   "execution_count": null,
   "metadata": {
    "executionInfo": {
     "elapsed": 28,
     "status": "ok",
     "timestamp": 1630120404830,
     "user": {
      "displayName": "Keny Patel",
      "photoUrl": "",
      "userId": "00178815288974504097"
     },
     "user_tz": -330
    },
    "id": "B7eh3h8IMkDo"
   },
   "outputs": [],
   "source": []
  },
  {
   "cell_type": "code",
   "execution_count": 48,
   "metadata": {
    "executionInfo": {
     "elapsed": 28,
     "status": "ok",
     "timestamp": 1630120404830,
     "user": {
      "displayName": "Keny Patel",
      "photoUrl": "",
      "userId": "00178815288974504097"
     },
     "user_tz": -330
    },
    "id": "A8DuIHAqMkDo"
   },
   "outputs": [],
   "source": [
    "encoder = LabelEncoder()\n",
    "Y_train = encoder.fit_transform(Y_train)"
   ]
  },
  {
   "cell_type": "code",
   "execution_count": 49,
   "metadata": {
    "colab": {
     "base_uri": "https://localhost:8080/",
     "height": 203
    },
    "executionInfo": {
     "elapsed": 29,
     "status": "ok",
     "timestamp": 1630120404831,
     "user": {
      "displayName": "Keny Patel",
      "photoUrl": "",
      "userId": "00178815288974504097"
     },
     "user_tz": -330
    },
    "id": "JAZe1tO1MkDp",
    "outputId": "49a97832-7134-422e-f8bd-039b4decf783"
   },
   "outputs": [
    {
     "data": {
      "text/html": [
       "<div>\n",
       "<style scoped>\n",
       "    .dataframe tbody tr th:only-of-type {\n",
       "        vertical-align: middle;\n",
       "    }\n",
       "\n",
       "    .dataframe tbody tr th {\n",
       "        vertical-align: top;\n",
       "    }\n",
       "\n",
       "    .dataframe thead th {\n",
       "        text-align: right;\n",
       "    }\n",
       "</style>\n",
       "<table border=\"1\" class=\"dataframe\">\n",
       "  <thead>\n",
       "    <tr style=\"text-align: right;\">\n",
       "      <th></th>\n",
       "      <th>label</th>\n",
       "    </tr>\n",
       "  </thead>\n",
       "  <tbody>\n",
       "    <tr>\n",
       "      <th>0</th>\n",
       "      <td>1</td>\n",
       "    </tr>\n",
       "    <tr>\n",
       "      <th>1</th>\n",
       "      <td>1</td>\n",
       "    </tr>\n",
       "    <tr>\n",
       "      <th>2</th>\n",
       "      <td>0</td>\n",
       "    </tr>\n",
       "    <tr>\n",
       "      <th>3</th>\n",
       "      <td>1</td>\n",
       "    </tr>\n",
       "    <tr>\n",
       "      <th>4</th>\n",
       "      <td>1</td>\n",
       "    </tr>\n",
       "  </tbody>\n",
       "</table>\n",
       "</div>"
      ],
      "text/plain": [
       "   label\n",
       "0      1\n",
       "1      1\n",
       "2      0\n",
       "3      1\n",
       "4      1"
      ]
     },
     "execution_count": 49,
     "metadata": {},
     "output_type": "execute_result"
    }
   ],
   "source": [
    "Y_train = pd.DataFrame(Y_train,columns=['label'])\n",
    "Y_train.head()"
   ]
  },
  {
   "cell_type": "code",
   "execution_count": 50,
   "metadata": {
    "colab": {
     "base_uri": "https://localhost:8080/",
     "height": 203
    },
    "executionInfo": {
     "elapsed": 28,
     "status": "ok",
     "timestamp": 1630120404831,
     "user": {
      "displayName": "Keny Patel",
      "photoUrl": "",
      "userId": "00178815288974504097"
     },
     "user_tz": -330
    },
    "id": "CCj7O0q-MkDp",
    "outputId": "f56f770b-d577-472a-c471-c426d46ef178"
   },
   "outputs": [
    {
     "data": {
      "text/html": [
       "<div>\n",
       "<style scoped>\n",
       "    .dataframe tbody tr th:only-of-type {\n",
       "        vertical-align: middle;\n",
       "    }\n",
       "\n",
       "    .dataframe tbody tr th {\n",
       "        vertical-align: top;\n",
       "    }\n",
       "\n",
       "    .dataframe thead th {\n",
       "        text-align: right;\n",
       "    }\n",
       "</style>\n",
       "<table border=\"1\" class=\"dataframe\">\n",
       "  <thead>\n",
       "    <tr style=\"text-align: right;\">\n",
       "      <th></th>\n",
       "      <th>tweet</th>\n",
       "      <th>label</th>\n",
       "      <th>CleanedTweet</th>\n",
       "    </tr>\n",
       "  </thead>\n",
       "  <tbody>\n",
       "    <tr>\n",
       "      <th>10</th>\n",
       "      <td>@mindvalley At last!! The moment I've been wai...</td>\n",
       "      <td>Positive</td>\n",
       "      <td>last moment ive waiting thank thank excited se...</td>\n",
       "    </tr>\n",
       "    <tr>\n",
       "      <th>14</th>\n",
       "      <td>RT @mindvalley: ÃƒÂ°Ã…Â¸Ã¢â‚¬ËœÃ¢â‚¬Â¡ Let us ...</td>\n",
       "      <td>Neutral</td>\n",
       "      <td>rt let u know excited mindvalleysummit best co...</td>\n",
       "    </tr>\n",
       "    <tr>\n",
       "      <th>20</th>\n",
       "      <td>@mindvalley You are the best</td>\n",
       "      <td>Positive</td>\n",
       "      <td>best</td>\n",
       "    </tr>\n",
       "    <tr>\n",
       "      <th>22</th>\n",
       "      <td>You all better join the FREE @mindvalley SUMMI...</td>\n",
       "      <td>Neutral</td>\n",
       "      <td>better join free summit happening thth june</td>\n",
       "    </tr>\n",
       "    <tr>\n",
       "      <th>25</th>\n",
       "      <td>@AstroGann33 @mindvalley Lucid dreams since yo...</td>\n",
       "      <td>Positive</td>\n",
       "      <td>lucid dream since young age went away came bac...</td>\n",
       "    </tr>\n",
       "  </tbody>\n",
       "</table>\n",
       "</div>"
      ],
      "text/plain": [
       "                                                tweet     label  \\\n",
       "10  @mindvalley At last!! The moment I've been wai...  Positive   \n",
       "14  RT @mindvalley: ÃƒÂ°Ã…Â¸Ã¢â‚¬ËœÃ¢â‚¬Â¡ Let us ...   Neutral   \n",
       "20                       @mindvalley You are the best  Positive   \n",
       "22  You all better join the FREE @mindvalley SUMMI...   Neutral   \n",
       "25  @AstroGann33 @mindvalley Lucid dreams since yo...  Positive   \n",
       "\n",
       "                                         CleanedTweet  \n",
       "10  last moment ive waiting thank thank excited se...  \n",
       "14  rt let u know excited mindvalleysummit best co...  \n",
       "20                                               best  \n",
       "22        better join free summit happening thth june  \n",
       "25  lucid dream since young age went away came bac...  "
      ]
     },
     "execution_count": 50,
     "metadata": {},
     "output_type": "execute_result"
    }
   ],
   "source": [
    "test_data.head()"
   ]
  },
  {
   "cell_type": "code",
   "execution_count": 51,
   "metadata": {
    "executionInfo": {
     "elapsed": 27,
     "status": "ok",
     "timestamp": 1630120404831,
     "user": {
      "displayName": "Keny Patel",
      "photoUrl": "",
      "userId": "00178815288974504097"
     },
     "user_tz": -330
    },
    "id": "lqzi5S7QMkDp"
   },
   "outputs": [],
   "source": [
    "X_test = test_data.CleanedTweet\n",
    "Y_test = test_data.label"
   ]
  },
  {
   "cell_type": "code",
   "execution_count": 52,
   "metadata": {
    "colab": {
     "base_uri": "https://localhost:8080/"
    },
    "executionInfo": {
     "elapsed": 28,
     "status": "ok",
     "timestamp": 1630120404832,
     "user": {
      "displayName": "Keny Patel",
      "photoUrl": "",
      "userId": "00178815288974504097"
     },
     "user_tz": -330
    },
    "id": "hPhUALIzMkDp",
    "outputId": "e23b83bc-ac65-4684-8134-f6fbe72540ee"
   },
   "outputs": [
    {
     "data": {
      "text/plain": [
       "10    Positive\n",
       "14     Neutral\n",
       "20    Positive\n",
       "22     Neutral\n",
       "25    Positive\n",
       "Name: label, dtype: object"
      ]
     },
     "execution_count": 52,
     "metadata": {},
     "output_type": "execute_result"
    }
   ],
   "source": [
    "X_test.head()\n",
    "Y_test.head()"
   ]
  },
  {
   "cell_type": "code",
   "execution_count": 53,
   "metadata": {
    "executionInfo": {
     "elapsed": 24,
     "status": "ok",
     "timestamp": 1630120404832,
     "user": {
      "displayName": "Keny Patel",
      "photoUrl": "",
      "userId": "00178815288974504097"
     },
     "user_tz": -330
    },
    "id": "wVoElmcEMkDp"
   },
   "outputs": [],
   "source": [
    "Y_test = encoder.fit_transform(Y_test)\n"
   ]
  },
  {
   "cell_type": "code",
   "execution_count": 54,
   "metadata": {
    "executionInfo": {
     "elapsed": 25,
     "status": "ok",
     "timestamp": 1630120404833,
     "user": {
      "displayName": "Keny Patel",
      "photoUrl": "",
      "userId": "00178815288974504097"
     },
     "user_tz": -330
    },
    "id": "xsfrasaGMkDp"
   },
   "outputs": [],
   "source": [
    "Y_test = pd.DataFrame(Y_test,columns=['label'])"
   ]
  },
  {
   "cell_type": "code",
   "execution_count": 55,
   "metadata": {
    "colab": {
     "base_uri": "https://localhost:8080/",
     "height": 203
    },
    "executionInfo": {
     "elapsed": 25,
     "status": "ok",
     "timestamp": 1630120404833,
     "user": {
      "displayName": "Keny Patel",
      "photoUrl": "",
      "userId": "00178815288974504097"
     },
     "user_tz": -330
    },
    "id": "YgBqFiilMkDq",
    "outputId": "99c02270-230d-4260-aa50-ccdd9a798925"
   },
   "outputs": [
    {
     "data": {
      "text/html": [
       "<div>\n",
       "<style scoped>\n",
       "    .dataframe tbody tr th:only-of-type {\n",
       "        vertical-align: middle;\n",
       "    }\n",
       "\n",
       "    .dataframe tbody tr th {\n",
       "        vertical-align: top;\n",
       "    }\n",
       "\n",
       "    .dataframe thead th {\n",
       "        text-align: right;\n",
       "    }\n",
       "</style>\n",
       "<table border=\"1\" class=\"dataframe\">\n",
       "  <thead>\n",
       "    <tr style=\"text-align: right;\">\n",
       "      <th></th>\n",
       "      <th>label</th>\n",
       "    </tr>\n",
       "  </thead>\n",
       "  <tbody>\n",
       "    <tr>\n",
       "      <th>0</th>\n",
       "      <td>2</td>\n",
       "    </tr>\n",
       "    <tr>\n",
       "      <th>1</th>\n",
       "      <td>1</td>\n",
       "    </tr>\n",
       "    <tr>\n",
       "      <th>2</th>\n",
       "      <td>2</td>\n",
       "    </tr>\n",
       "    <tr>\n",
       "      <th>3</th>\n",
       "      <td>1</td>\n",
       "    </tr>\n",
       "    <tr>\n",
       "      <th>4</th>\n",
       "      <td>2</td>\n",
       "    </tr>\n",
       "  </tbody>\n",
       "</table>\n",
       "</div>"
      ],
      "text/plain": [
       "   label\n",
       "0      2\n",
       "1      1\n",
       "2      2\n",
       "3      1\n",
       "4      2"
      ]
     },
     "execution_count": 55,
     "metadata": {},
     "output_type": "execute_result"
    }
   ],
   "source": [
    "Y_test.head()\n"
   ]
  },
  {
   "cell_type": "code",
   "execution_count": 56,
   "metadata": {
    "colab": {
     "base_uri": "https://localhost:8080/"
    },
    "executionInfo": {
     "elapsed": 25,
     "status": "ok",
     "timestamp": 1630120404835,
     "user": {
      "displayName": "Keny Patel",
      "photoUrl": "",
      "userId": "00178815288974504097"
     },
     "user_tz": -330
    },
    "id": "9fGDFoeUMkDq",
    "outputId": "df28d2f2-3412-42d3-909c-aa2e74ec51a0"
   },
   "outputs": [
    {
     "data": {
      "text/plain": [
       "(3694, 2205)"
      ]
     },
     "execution_count": 56,
     "metadata": {},
     "output_type": "execute_result"
    }
   ],
   "source": [
    "vectorizer = CountVectorizer(max_features= 3000, min_df = 3, max_df = 0.6)\n",
    "X_train_data = vectorizer.fit_transform(X_train)\n",
    "X_train_data.shape"
   ]
  },
  {
   "cell_type": "code",
   "execution_count": 57,
   "metadata": {
    "executionInfo": {
     "elapsed": 21,
     "status": "ok",
     "timestamp": 1630120404835,
     "user": {
      "displayName": "Keny Patel",
      "photoUrl": "",
      "userId": "00178815288974504097"
     },
     "user_tz": -330
    },
    "id": "sYDfwmtLMkDq"
   },
   "outputs": [],
   "source": [
    "X_test_data = vectorizer.fit_transform(X_test)"
   ]
  },
  {
   "cell_type": "code",
   "execution_count": 58,
   "metadata": {
    "colab": {
     "base_uri": "https://localhost:8080/"
    },
    "executionInfo": {
     "elapsed": 22,
     "status": "ok",
     "timestamp": 1630120404836,
     "user": {
      "displayName": "Keny Patel",
      "photoUrl": "",
      "userId": "00178815288974504097"
     },
     "user_tz": -330
    },
    "id": "Vd_9kFRwMkDq",
    "outputId": "0d13a642-d401-4377-9c44-9968f92bc28d"
   },
   "outputs": [
    {
     "data": {
      "text/plain": [
       "(3694, 2205)"
      ]
     },
     "execution_count": 58,
     "metadata": {},
     "output_type": "execute_result"
    }
   ],
   "source": [
    "X_train_data.shape\n"
   ]
  },
  {
   "cell_type": "code",
   "execution_count": 59,
   "metadata": {
    "colab": {
     "base_uri": "https://localhost:8080/"
    },
    "executionInfo": {
     "elapsed": 19,
     "status": "ok",
     "timestamp": 1630120404836,
     "user": {
      "displayName": "Keny Patel",
      "photoUrl": "",
      "userId": "00178815288974504097"
     },
     "user_tz": -330
    },
    "id": "PoEAzcuCMkDr",
    "outputId": "df18006b-b41b-4eae-d573-ad796fdee28e"
   },
   "outputs": [
    {
     "data": {
      "text/plain": [
       "(3694, 1)"
      ]
     },
     "execution_count": 59,
     "metadata": {},
     "output_type": "execute_result"
    }
   ],
   "source": [
    "Y_train.shape"
   ]
  },
  {
   "cell_type": "code",
   "execution_count": 60,
   "metadata": {
    "colab": {
     "base_uri": "https://localhost:8080/"
    },
    "executionInfo": {
     "elapsed": 786,
     "status": "ok",
     "timestamp": 1630120405607,
     "user": {
      "displayName": "Keny Patel",
      "photoUrl": "",
      "userId": "00178815288974504097"
     },
     "user_tz": -330
    },
    "id": "ggYd5EjoMkDr",
    "outputId": "208172fb-9639-4df9-a289-fc8a1dae8323"
   },
   "outputs": [
    {
     "name": "stdout",
     "output_type": "stream",
     "text": [
      "(3694, 2205)\n"
     ]
    }
   ],
   "source": [
    "transformer = TfidfTransformer()\n",
    "X_train_data = transformer.fit_transform(X_train_data).toarray()\n",
    "\n",
    "print(X_train_data.shape)"
   ]
  },
  {
   "cell_type": "code",
   "execution_count": 61,
   "metadata": {
    "colab": {
     "base_uri": "https://localhost:8080/",
     "height": 203
    },
    "executionInfo": {
     "elapsed": 7,
     "status": "ok",
     "timestamp": 1630120405608,
     "user": {
      "displayName": "Keny Patel",
      "photoUrl": "",
      "userId": "00178815288974504097"
     },
     "user_tz": -330
    },
    "id": "yyjvStUvMkDr",
    "outputId": "436a8052-9ae0-4370-c5fd-9e576fd9267a"
   },
   "outputs": [
    {
     "data": {
      "text/html": [
       "<div>\n",
       "<style scoped>\n",
       "    .dataframe tbody tr th:only-of-type {\n",
       "        vertical-align: middle;\n",
       "    }\n",
       "\n",
       "    .dataframe tbody tr th {\n",
       "        vertical-align: top;\n",
       "    }\n",
       "\n",
       "    .dataframe thead th {\n",
       "        text-align: right;\n",
       "    }\n",
       "</style>\n",
       "<table border=\"1\" class=\"dataframe\">\n",
       "  <thead>\n",
       "    <tr style=\"text-align: right;\">\n",
       "      <th></th>\n",
       "      <th>label</th>\n",
       "    </tr>\n",
       "  </thead>\n",
       "  <tbody>\n",
       "    <tr>\n",
       "      <th>0</th>\n",
       "      <td>1</td>\n",
       "    </tr>\n",
       "    <tr>\n",
       "      <th>1</th>\n",
       "      <td>1</td>\n",
       "    </tr>\n",
       "    <tr>\n",
       "      <th>2</th>\n",
       "      <td>0</td>\n",
       "    </tr>\n",
       "    <tr>\n",
       "      <th>3</th>\n",
       "      <td>1</td>\n",
       "    </tr>\n",
       "    <tr>\n",
       "      <th>4</th>\n",
       "      <td>1</td>\n",
       "    </tr>\n",
       "  </tbody>\n",
       "</table>\n",
       "</div>"
      ],
      "text/plain": [
       "   label\n",
       "0      1\n",
       "1      1\n",
       "2      0\n",
       "3      1\n",
       "4      1"
      ]
     },
     "execution_count": 61,
     "metadata": {},
     "output_type": "execute_result"
    }
   ],
   "source": [
    "Y_train.head()"
   ]
  },
  {
   "cell_type": "code",
   "execution_count": 62,
   "metadata": {
    "executionInfo": {
     "elapsed": 644,
     "status": "ok",
     "timestamp": 1630120406248,
     "user": {
      "displayName": "Keny Patel",
      "photoUrl": "",
      "userId": "00178815288974504097"
     },
     "user_tz": -330
    },
    "id": "fKW1T09EMkDs"
   },
   "outputs": [],
   "source": [
    "X1_train, X1_test, y1_train, y1_test = train_test_split(X_train_data, Y_train, test_size=0.33,random_state = 15)"
   ]
  },
  {
   "cell_type": "code",
   "execution_count": 63,
   "metadata": {
    "colab": {
     "base_uri": "https://localhost:8080/"
    },
    "executionInfo": {
     "elapsed": 734,
     "status": "ok",
     "timestamp": 1630120406980,
     "user": {
      "displayName": "Keny Patel",
      "photoUrl": "",
      "userId": "00178815288974504097"
     },
     "user_tz": -330
    },
    "id": "I1oKm2xiMkDs",
    "outputId": "f0b95c36-9a44-49b7-bc99-ef29528b393b"
   },
   "outputs": [
    {
     "name": "stdout",
     "output_type": "stream",
     "text": [
      "83.10428455941795\n",
      "75.81967213114754\n"
     ]
    }
   ],
   "source": [
    "model1_nb = MultinomialNB()\n",
    "y_train_pred = model1_nb.fit(X1_train,y1_train.label).predict(X1_train)\n",
    "\n",
    "y_pred = model1_nb.predict(X1_test)\n",
    "  \n",
    "print(metrics.accuracy_score(y1_train, y_train_pred)*100)\n",
    "print(metrics.accuracy_score(y1_test, y_pred)*100)"
   ]
  },
  {
   "cell_type": "code",
   "execution_count": 64,
   "metadata": {
    "colab": {
     "base_uri": "https://localhost:8080/"
    },
    "executionInfo": {
     "elapsed": 354462,
     "status": "ok",
     "timestamp": 1630120781414,
     "user": {
      "displayName": "Keny Patel",
      "photoUrl": "",
      "userId": "00178815288974504097"
     },
     "user_tz": -330
    },
    "id": "cIkYo5FJMkDw",
    "outputId": "396449c7-540d-4304-becb-cdb3bf84dd70"
   },
   "outputs": [
    {
     "name": "stdout",
     "output_type": "stream",
     "text": [
      "94.0986257073565\n",
      "76.55737704918033\n"
     ]
    }
   ],
   "source": [
    "gboost_m = GradientBoostingClassifier(n_estimators=100, learning_rate=1.0, max_depth=1)\n",
    "train_pred = gboost_m.fit(X1_train,y1_train.label).predict(X1_train)\n",
    "prediction = gboost_m.score(X1_test,y1_test )\n",
    "print(accuracy_score(y1_train, train_pred)*100 )\n",
    "print(prediction*100)"
   ]
  },
  {
   "cell_type": "code",
   "execution_count": 65,
   "metadata": {
    "colab": {
     "base_uri": "https://localhost:8080/"
    },
    "executionInfo": {
     "elapsed": 94529,
     "status": "ok",
     "timestamp": 1630120875940,
     "user": {
      "displayName": "Keny Patel",
      "photoUrl": "",
      "userId": "00178815288974504097"
     },
     "user_tz": -330
    },
    "id": "wt4Go0XUMkDx",
    "outputId": "13ae30b5-9d58-4173-cc5b-ce59a4df4ef4"
   },
   "outputs": [
    {
     "name": "stdout",
     "output_type": "stream",
     "text": [
      "99.23201293451899\n",
      "81.14754098360656\n"
     ]
    }
   ],
   "source": [
    "rf_model=RandomForestClassifier()\n",
    "train_pred = rf_model.fit(X1_train,y1_train.label).predict(X1_train)\n",
    "prediction = rf_model.score(X1_test,y1_test )\n",
    "print(metrics.accuracy_score(y1_train, train_pred)*100 )\n",
    "print(prediction*100)\n"
   ]
  },
  {
   "cell_type": "code",
   "execution_count": 66,
   "metadata": {
    "colab": {
     "base_uri": "https://localhost:8080/"
    },
    "executionInfo": {
     "elapsed": 215507,
     "status": "ok",
     "timestamp": 1630121091437,
     "user": {
      "displayName": "Keny Patel",
      "photoUrl": "",
      "userId": "00178815288974504097"
     },
     "user_tz": -330
    },
    "id": "BW1VOXQwrROD",
    "outputId": "32aa62b0-d1a8-42cd-f176-8fecc0f979b3"
   },
   "outputs": [
    {
     "name": "stdout",
     "output_type": "stream",
     "text": [
      "77.72837510105093\n",
      "75.81967213114754\n"
     ]
    }
   ],
   "source": [
    "rf_model=RandomForestClassifier(n_estimators=300,min_samples_split = 10,min_samples_leaf = 8)\n",
    "train_pred = rf_model.fit(X1_train,y1_train.label).predict(X1_train)\n",
    "prediction = rf_model.score(X1_test,y1_test)\n",
    "print(metrics.accuracy_score(y1_train, train_pred)*100)\n",
    "print(prediction*100)"
   ]
  },
  {
   "cell_type": "code",
   "execution_count": 67,
   "metadata": {
    "colab": {
     "base_uri": "https://localhost:8080/"
    },
    "executionInfo": {
     "elapsed": 11,
     "status": "ok",
     "timestamp": 1630121478086,
     "user": {
      "displayName": "Keny Patel",
      "photoUrl": "",
      "userId": "00178815288974504097"
     },
     "user_tz": -330
    },
    "id": "J2hhNq2S4Kye",
    "outputId": "9ae93e38-53e6-4eb6-c7db-04c56f57f66c"
   },
   "outputs": [
    {
     "name": "stdout",
     "output_type": "stream",
     "text": [
      "X_train\n",
      " 2914                                      eagerly waiting\n",
      "2038    hey guy created youtube channel marketing stra...\n",
      "3785    hold spoken agent hour morning transferred lin...\n",
      "2322    rt moment change perception moment rewrite che...\n",
      "3244    enjoyed conversation never make bad decision c...\n",
      "Name: CleanedTweet, dtype: object\n",
      "Y_train\n",
      "    label\n",
      "0      1\n",
      "1      1\n",
      "2      0\n",
      "3      1\n",
      "4      1\n",
      "X_test\n",
      " 10    last moment ive waiting thank thank excited se...\n",
      "14    rt let u know excited mindvalleysummit best co...\n",
      "20                                                 best\n",
      "22          better join free summit happening thth june\n",
      "25    lucid dream since young age went away came bac...\n",
      "Name: CleanedTweet, dtype: object\n",
      "Y_test\n",
      "    label\n",
      "0      2\n",
      "1      1\n",
      "2      2\n",
      "3      1\n",
      "4      2\n"
     ]
    }
   ],
   "source": [
    "print(\"X_train\\n\",X_train.head())\n",
    "print(\"Y_train\\n\",Y_train.head())\n",
    "\n",
    "print(\"X_test\\n\",X_test.head())\n",
    "print(\"Y_test\\n\",Y_test.head())"
   ]
  },
  {
   "cell_type": "code",
   "execution_count": 68,
   "metadata": {
    "executionInfo": {
     "elapsed": 3,
     "status": "ok",
     "timestamp": 1630121478769,
     "user": {
      "displayName": "Keny Patel",
      "photoUrl": "",
      "userId": "00178815288974504097"
     },
     "user_tz": -330
    },
    "id": "Q8jshJ3j_F19"
   },
   "outputs": [],
   "source": [
    "tokenizer = Tokenizer(num_words=50000,\n",
    "                      lower=True,\n",
    "                      split=' ',\n",
    "                      char_level=False,\n",
    "                      oov_token='<UNK>',\n",
    "                      document_count=0)"
   ]
  },
  {
   "cell_type": "code",
   "execution_count": 69,
   "metadata": {
    "executionInfo": {
     "elapsed": 1341,
     "status": "ok",
     "timestamp": 1630121480108,
     "user": {
      "displayName": "Keny Patel",
      "photoUrl": "",
      "userId": "00178815288974504097"
     },
     "user_tz": -330
    },
    "id": "N_m-fAjv_NcI"
   },
   "outputs": [],
   "source": [
    "tokenizer.fit_on_texts(X_train)\n",
    "tokenizer.fit_on_texts(Y_train)\n",
    "\n",
    "wordindex=tokenizer.word_index"
   ]
  },
  {
   "cell_type": "code",
   "execution_count": 70,
   "metadata": {
    "colab": {
     "base_uri": "https://localhost:8080/"
    },
    "executionInfo": {
     "elapsed": 377,
     "status": "ok",
     "timestamp": 1630121480483,
     "user": {
      "displayName": "Keny Patel",
      "photoUrl": "",
      "userId": "00178815288974504097"
     },
     "user_tz": -330
    },
    "id": "euJ-Gnk9_ldu",
    "outputId": "3d54a087-a4bd-4e43-e205-adc975e6f95a"
   },
   "outputs": [
    {
     "data": {
      "text/plain": [
       "dict_keys(['num_words', 'filters', 'lower', 'split', 'char_level', 'oov_token', 'document_count', 'word_counts', 'word_docs', 'index_docs', 'index_word', 'word_index'])"
      ]
     },
     "execution_count": 70,
     "metadata": {},
     "output_type": "execute_result"
    }
   ],
   "source": [
    "tokenizer_config = tokenizer.get_config()\n",
    "tokenizer_config.keys()"
   ]
  },
  {
   "cell_type": "code",
   "execution_count": 73,
   "metadata": {
    "executionInfo": {
     "elapsed": 947,
     "status": "ok",
     "timestamp": 1630121481428,
     "user": {
      "displayName": "Keny Patel",
      "photoUrl": "",
      "userId": "00178815288974504097"
     },
     "user_tz": -330
    },
    "id": "9xUzTXI3AExU"
   },
   "outputs": [],
   "source": [
    "max_length = 50\n",
    "train_sequence = tokenizer.texts_to_sequences(X_train)\n",
    "train_padding = ps.pad_sequences(train_sequence,maxlen=max_length,padding='post')\n",
    "\n",
    "test_sequence = tokenizer.texts_to_sequences(X_test)\n",
    "test_padding = ps.pad_sequences(test_sequence,maxlen=max_length,padding='post')"
   ]
  },
  {
   "cell_type": "code",
   "execution_count": 74,
   "metadata": {
    "colab": {
     "base_uri": "https://localhost:8080/"
    },
    "executionInfo": {
     "elapsed": 9,
     "status": "ok",
     "timestamp": 1630121481429,
     "user": {
      "displayName": "Keny Patel",
      "photoUrl": "",
      "userId": "00178815288974504097"
     },
     "user_tz": -330
    },
    "id": "QYZ7inpdBcVd",
    "outputId": "5b0ce137-ecd9-434a-8b03-daabaad1b192"
   },
   "outputs": [
    {
     "data": {
      "text/plain": [
       "(3694, 1)"
      ]
     },
     "execution_count": 74,
     "metadata": {},
     "output_type": "execute_result"
    }
   ],
   "source": [
    "train_padding.shape\n",
    "Y_train.shape"
   ]
  },
  {
   "cell_type": "code",
   "execution_count": 75,
   "metadata": {
    "executionInfo": {
     "elapsed": 7,
     "status": "ok",
     "timestamp": 1630121481429,
     "user": {
      "displayName": "Keny Patel",
      "photoUrl": "",
      "userId": "00178815288974504097"
     },
     "user_tz": -330
    },
    "id": "gXHyfRm-GeCc"
   },
   "outputs": [],
   "source": [
    "y_train = OneHotEncoder().fit_transform(Y_train)"
   ]
  },
  {
   "cell_type": "code",
   "execution_count": 76,
   "metadata": {
    "colab": {
     "base_uri": "https://localhost:8080/"
    },
    "executionInfo": {
     "elapsed": 6,
     "status": "ok",
     "timestamp": 1630121481429,
     "user": {
      "displayName": "Keny Patel",
      "photoUrl": "",
      "userId": "00178815288974504097"
     },
     "user_tz": -330
    },
    "id": "q2P9FPznGrHz",
    "outputId": "1905a472-a450-4bac-88bb-b9218bd7ad03"
   },
   "outputs": [
    {
     "data": {
      "text/plain": [
       "(410, 3)"
      ]
     },
     "execution_count": 76,
     "metadata": {},
     "output_type": "execute_result"
    }
   ],
   "source": [
    "y_train.shape\n",
    "y_test = OneHotEncoder().fit_transform(Y_test)\n",
    "y_test.shape"
   ]
  },
  {
   "cell_type": "code",
   "execution_count": 80,
   "metadata": {
    "executionInfo": {
     "elapsed": 635,
     "status": "ok",
     "timestamp": 1630121482062,
     "user": {
      "displayName": "Keny Patel",
      "photoUrl": "",
      "userId": "00178815288974504097"
     },
     "user_tz": -330
    },
    "id": "K8S0P8yRC0Ao"
   },
   "outputs": [],
   "source": [
    "base_model = Sequential()\n",
    "base_model.add(Embedding(50000,128,input_length=train_padding.shape[1]))\n",
    "base_model.add(GlobalAveragePooling1D())\n",
    "base_model.add(Dense(8,activation='relu'))\n",
    "base_model.add(Dense(3,activation='softmax'))"
   ]
  },
  {
   "cell_type": "code",
   "execution_count": 81,
   "metadata": {
    "colab": {
     "base_uri": "https://localhost:8080/"
    },
    "executionInfo": {
     "elapsed": 4,
     "status": "ok",
     "timestamp": 1630121482062,
     "user": {
      "displayName": "Keny Patel",
      "photoUrl": "",
      "userId": "00178815288974504097"
     },
     "user_tz": -330
    },
    "id": "Hx4uWN3rDgO7",
    "outputId": "ae3fe43a-8b7d-4114-8259-cf868905a01d"
   },
   "outputs": [
    {
     "name": "stdout",
     "output_type": "stream",
     "text": [
      "Model: \"sequential_1\"\n",
      "_________________________________________________________________\n",
      "Layer (type)                 Output Shape              Param #   \n",
      "=================================================================\n",
      "embedding (Embedding)        (None, 50, 128)           6400000   \n",
      "_________________________________________________________________\n",
      "global_average_pooling1d (Gl (None, 128)               0         \n",
      "_________________________________________________________________\n",
      "dense (Dense)                (None, 8)                 1032      \n",
      "_________________________________________________________________\n",
      "dense_1 (Dense)              (None, 3)                 27        \n",
      "=================================================================\n",
      "Total params: 6,401,059\n",
      "Trainable params: 6,401,059\n",
      "Non-trainable params: 0\n",
      "_________________________________________________________________\n"
     ]
    }
   ],
   "source": [
    "base_model.summary()"
   ]
  },
  {
   "cell_type": "code",
   "execution_count": 82,
   "metadata": {
    "executionInfo": {
     "elapsed": 4,
     "status": "ok",
     "timestamp": 1630121482063,
     "user": {
      "displayName": "Keny Patel",
      "photoUrl": "",
      "userId": "00178815288974504097"
     },
     "user_tz": -330
    },
    "id": "8pVgNBb_DqtZ"
   },
   "outputs": [],
   "source": [
    "base_model.compile(loss='categorical_crossentropy',optimizer='adam',metrics=['accuracy'])"
   ]
  },
  {
   "cell_type": "code",
   "execution_count": 83,
   "metadata": {
    "executionInfo": {
     "elapsed": 4,
     "status": "ok",
     "timestamp": 1630121482063,
     "user": {
      "displayName": "Keny Patel",
      "photoUrl": "",
      "userId": "00178815288974504097"
     },
     "user_tz": -330
    },
    "id": "bw65B1eCF7A5"
   },
   "outputs": [],
   "source": [
    "y_train=np.array(y_train.toarray())"
   ]
  },
  {
   "cell_type": "code",
   "execution_count": 84,
   "metadata": {
    "executionInfo": {
     "elapsed": 3,
     "status": "ok",
     "timestamp": 1630121482063,
     "user": {
      "displayName": "Keny Patel",
      "photoUrl": "",
      "userId": "00178815288974504097"
     },
     "user_tz": -330
    },
    "id": "w0zg_ilAHS46"
   },
   "outputs": [],
   "source": [
    "train_padding=np.array(train_padding)"
   ]
  },
  {
   "cell_type": "code",
   "execution_count": 85,
   "metadata": {
    "colab": {
     "base_uri": "https://localhost:8080/"
    },
    "executionInfo": {
     "elapsed": 742867,
     "status": "ok",
     "timestamp": 1630122224927,
     "user": {
      "displayName": "Keny Patel",
      "photoUrl": "",
      "userId": "00178815288974504097"
     },
     "user_tz": -330
    },
    "id": "mNuw3NFyEICu",
    "outputId": "a8767114-6969-40de-c8a5-fc9eed3ecece"
   },
   "outputs": [
    {
     "name": "stderr",
     "output_type": "stream",
     "text": [
      "2022-01-11 10:43:39.842701: I tensorflow/compiler/mlir/mlir_graph_optimization_pass.cc:116] None of the MLIR optimization passes are enabled (registered 2)\n",
      "2022-01-11 10:43:39.862716: I tensorflow/core/platform/profile_utils/cpu_utils.cc:112] CPU Frequency: 2994345000 Hz\n"
     ]
    },
    {
     "name": "stdout",
     "output_type": "stream",
     "text": [
      "Epoch 1/10\n",
      "93/93 [==============================] - 5s 51ms/step - loss: 0.9798 - accuracy: 0.6705 - val_loss: 0.8194 - val_accuracy: 0.6712\n",
      "Epoch 2/10\n",
      "93/93 [==============================] - 4s 47ms/step - loss: 0.8447 - accuracy: 0.6472 - val_loss: 0.7981 - val_accuracy: 0.6712\n",
      "Epoch 3/10\n",
      "93/93 [==============================] - 4s 48ms/step - loss: 0.7905 - accuracy: 0.6582 - val_loss: 0.7687 - val_accuracy: 0.6712\n",
      "Epoch 4/10\n",
      "93/93 [==============================] - 4s 43ms/step - loss: 0.7415 - accuracy: 0.6528 - val_loss: 0.7231 - val_accuracy: 0.6712\n",
      "Epoch 5/10\n",
      "93/93 [==============================] - 4s 45ms/step - loss: 0.6502 - accuracy: 0.6779 - val_loss: 0.6535 - val_accuracy: 0.7009\n",
      "Epoch 6/10\n",
      "93/93 [==============================] - 4s 47ms/step - loss: 0.5195 - accuracy: 0.7827 - val_loss: 0.5880 - val_accuracy: 0.7645\n",
      "Epoch 7/10\n",
      "93/93 [==============================] - 4s 45ms/step - loss: 0.4362 - accuracy: 0.8434 - val_loss: 0.5965 - val_accuracy: 0.7402\n",
      "Epoch 8/10\n",
      "93/93 [==============================] - 4s 45ms/step - loss: 0.3585 - accuracy: 0.8778 - val_loss: 0.5361 - val_accuracy: 0.7808\n",
      "Epoch 9/10\n",
      "93/93 [==============================] - 5s 49ms/step - loss: 0.3149 - accuracy: 0.9113 - val_loss: 0.5227 - val_accuracy: 0.7957\n",
      "Epoch 10/10\n",
      "93/93 [==============================] - 4s 46ms/step - loss: 0.2486 - accuracy: 0.9316 - val_loss: 0.5120 - val_accuracy: 0.8133\n"
     ]
    }
   ],
   "source": [
    "history_base = base_model.fit(train_padding,y_train ,epochs=10, validation_split=0.2)"
   ]
  },
  {
   "cell_type": "code",
   "execution_count": 86,
   "metadata": {
    "colab": {
     "base_uri": "https://localhost:8080/",
     "height": 623
    },
    "executionInfo": {
     "elapsed": 1278,
     "status": "ok",
     "timestamp": 1630122226202,
     "user": {
      "displayName": "Keny Patel",
      "photoUrl": "",
      "userId": "00178815288974504097"
     },
     "user_tz": -330
    },
    "id": "zxSoFddXIYEO",
    "outputId": "544206bf-972c-4577-eb13-e1b3978623b4"
   },
   "outputs": [
    {
     "data": {
      "text/plain": [
       "(0.0, 0.9560176350176335)"
      ]
     },
     "execution_count": 86,
     "metadata": {},
     "output_type": "execute_result"
    },
    {
     "data": {
      "image/png": "[encoded data removed]",
      "text/plain": [
       "<Figure size 1080x720 with 2 Axes>"
      ]
     },
     "metadata": {},
     "output_type": "display_data"
    }
   ],
   "source": [
    "plt.style.use('seaborn-darkgrid')\n",
    "def plot_graphs(history, metric):\n",
    "  plt.plot(history.history[metric])\n",
    "  plt.plot(history.history['val_'+metric], '')\n",
    "  plt.xlabel(\"Epochs\")\n",
    "  plt.ylabel(metric)\n",
    "  plt.legend([metric, 'val_'+metric])\n",
    "\n",
    "plt.figure(figsize=(15, 10))\n",
    "plt.subplot(1, 2, 1)\n",
    "plot_graphs(history_base, 'accuracy')\n",
    "plt.ylim(None, 1)\n",
    "plt.subplot(1, 2, 2)\n",
    "plot_graphs(history_base, 'loss')\n",
    "plt.ylim(0, None)"
   ]
  },
  {
   "cell_type": "code",
   "execution_count": 87,
   "metadata": {
    "colab": {
     "base_uri": "https://localhost:8080/"
    },
    "executionInfo": {
     "elapsed": 20,
     "status": "ok",
     "timestamp": 1630122226202,
     "user": {
      "displayName": "Keny Patel",
      "photoUrl": "",
      "userId": "00178815288974504097"
     },
     "user_tz": -330
    },
    "id": "vbtyCGVvLXBy",
    "outputId": "4156de33-739c-4f42-dbda-46b1f1f8e8bf"
   },
   "outputs": [
    {
     "name": "stdout",
     "output_type": "stream",
     "text": [
      "Model: \"sequential_2\"\n",
      "_________________________________________________________________\n",
      "Layer (type)                 Output Shape              Param #   \n",
      "=================================================================\n",
      "embedding_1 (Embedding)      (None, 50, 128)           6400000   \n",
      "_________________________________________________________________\n",
      "dropout (Dropout)            (None, 50, 128)           0         \n",
      "_________________________________________________________________\n",
      "global_average_pooling1d_1 ( (None, 128)               0         \n",
      "_________________________________________________________________\n",
      "dense_2 (Dense)              (None, 8)                 1032      \n",
      "_________________________________________________________________\n",
      "dropout_1 (Dropout)          (None, 8)                 0         \n",
      "_________________________________________________________________\n",
      "dense_3 (Dense)              (None, 3)                 27        \n",
      "=================================================================\n",
      "Total params: 6,401,059\n",
      "Trainable params: 6,401,059\n",
      "Non-trainable params: 0\n",
      "_________________________________________________________________\n"
     ]
    }
   ],
   "source": [
    "regularise = tensorflow.keras.regularizers.l2(0.001)\n",
    "\n",
    "model_r = Sequential()\n",
    "model_r.add(Embedding(50000,128,input_length=train_padding.shape[1]))\n",
    "model_r.add(Dropout(0.5))\n",
    "model_r.add(GlobalAveragePooling1D())\n",
    "model_r.add(Dense(8,activation='relu',kernel_regularizer=regularise))\n",
    "model_r.add(Dropout(0.5))\n",
    "model_r.add(Dense(3,activation='softmax'))\n",
    "model_r.summary()"
   ]
  },
  {
   "cell_type": "code",
   "execution_count": 88,
   "metadata": {},
   "outputs": [
    {
     "name": "stdout",
     "output_type": "stream",
     "text": [
      "Model: \"sequential_1\"\n",
      "_________________________________________________________________\n",
      "Layer (type)                 Output Shape              Param #   \n",
      "=================================================================\n",
      "embedding (Embedding)        (None, 50, 128)           6400000   \n",
      "_________________________________________________________________\n",
      "global_average_pooling1d (Gl (None, 128)               0         \n",
      "_________________________________________________________________\n",
      "dense (Dense)                (None, 8)                 1032      \n",
      "_________________________________________________________________\n",
      "dense_1 (Dense)              (None, 3)                 27        \n",
      "=================================================================\n",
      "Total params: 6,401,059\n",
      "Trainable params: 6,401,059\n",
      "Non-trainable params: 0\n",
      "_________________________________________________________________\n"
     ]
    }
   ],
   "source": [
    "base_model.summary()"
   ]
  },
  {
   "cell_type": "code",
   "execution_count": 89,
   "metadata": {
    "executionInfo": {
     "elapsed": 17,
     "status": "ok",
     "timestamp": 1630122226203,
     "user": {
      "displayName": "Keny Patel",
      "photoUrl": "",
      "userId": "00178815288974504097"
     },
     "user_tz": -330
    },
    "id": "Vf_GETTbMV1W"
   },
   "outputs": [],
   "source": [
    "model_r.compile(loss='categorical_crossentropy',optimizer='adam',metrics=['accuracy'])"
   ]
  },
  {
   "cell_type": "code",
   "execution_count": 90,
   "metadata": {
    "colab": {
     "base_uri": "https://localhost:8080/"
    },
    "executionInfo": {
     "elapsed": 560631,
     "status": "ok",
     "timestamp": 1630122786818,
     "user": {
      "displayName": "Keny Patel",
      "photoUrl": "",
      "userId": "00178815288974504097"
     },
     "user_tz": -330
    },
    "id": "Ii1RctX-MkF1",
    "outputId": "845450bb-43c9-4e7a-c808-f812b7c233c7"
   },
   "outputs": [
    {
     "name": "stdout",
     "output_type": "stream",
     "text": [
      "Epoch 1/8\n",
      "93/93 [==============================] - 5s 51ms/step - loss: 1.0337 - accuracy: 0.6382 - val_loss: 0.8685 - val_accuracy: 0.6712\n",
      "Epoch 2/8\n",
      "93/93 [==============================] - 5s 54ms/step - loss: 0.9010 - accuracy: 0.6571 - val_loss: 0.8383 - val_accuracy: 0.6712\n",
      "Epoch 3/8\n",
      "93/93 [==============================] - 5s 51ms/step - loss: 0.8931 - accuracy: 0.6402 - val_loss: 0.8222 - val_accuracy: 0.6712\n",
      "Epoch 4/8\n",
      "93/93 [==============================] - 5s 54ms/step - loss: 0.8363 - accuracy: 0.6665 - val_loss: 0.7968 - val_accuracy: 0.6712\n",
      "Epoch 5/8\n",
      "93/93 [==============================] - 5s 55ms/step - loss: 0.8122 - accuracy: 0.6614 - val_loss: 0.7694 - val_accuracy: 0.6712\n",
      "Epoch 6/8\n",
      "93/93 [==============================] - 5s 55ms/step - loss: 0.7585 - accuracy: 0.6548 - val_loss: 0.7437 - val_accuracy: 0.6712\n",
      "Epoch 7/8\n",
      "93/93 [==============================] - 5s 53ms/step - loss: 0.7261 - accuracy: 0.6622 - val_loss: 0.7278 - val_accuracy: 0.6712\n",
      "Epoch 8/8\n",
      "93/93 [==============================] - 5s 53ms/step - loss: 0.7016 - accuracy: 0.6668 - val_loss: 0.7219 - val_accuracy: 0.6712\n"
     ]
    }
   ],
   "source": [
    "history_r = model_r.fit(train_padding,y_train ,epochs=8, validation_split=0.2)"
   ]
  },
  {
   "cell_type": "code",
   "execution_count": 91,
   "metadata": {
    "colab": {
     "base_uri": "https://localhost:8080/",
     "height": 623
    },
    "executionInfo": {
     "elapsed": 20,
     "status": "ok",
     "timestamp": 1630122786818,
     "user": {
      "displayName": "Keny Patel",
      "photoUrl": "",
      "userId": "00178815288974504097"
     },
     "user_tz": -330
    },
    "id": "IxgMl_vCS16z",
    "outputId": "6ef0680f-da5d-4476-88d8-3c50a36e72e4"
   },
   "outputs": [
    {
     "data": {
      "text/plain": [
       "(0.0, 0.9924438685178757)"
      ]
     },
     "execution_count": 91,
     "metadata": {},
     "output_type": "execute_result"
    },
    {
     "data": {
      "image/png": "[encoded data removed]",
      "text/plain": [
       "<Figure size 1080x720 with 2 Axes>"
      ]
     },
     "metadata": {},
     "output_type": "display_data"
    }
   ],
   "source": [
    "plt.figure(figsize=(15, 10))\n",
    "plt.subplot(1, 2, 1)\n",
    "plot_graphs(history_r, 'accuracy')\n",
    "plt.ylim(None, 1)\n",
    "plt.subplot(1, 2, 2)\n",
    "plot_graphs(history_r, 'loss')\n",
    "plt.ylim(0, None)"
   ]
  },
  {
   "cell_type": "code",
   "execution_count": 92,
   "metadata": {
    "colab": {
     "base_uri": "https://localhost:8080/"
    },
    "executionInfo": {
     "elapsed": 8,
     "status": "ok",
     "timestamp": 1630122786818,
     "user": {
      "displayName": "Keny Patel",
      "photoUrl": "",
      "userId": "00178815288974504097"
     },
     "user_tz": -330
    },
    "id": "n6O9gD4PTLtk",
    "outputId": "4552cc94-4a88-41b0-bd95-e263851c2dc8"
   },
   "outputs": [
    {
     "name": "stdout",
     "output_type": "stream",
     "text": [
      "13/13 [==============================] - 0s 3ms/step - loss: 0.7628 - accuracy: 0.6512\n",
      "Testing Accuracy(%):  65.12194871902466\n"
     ]
    }
   ],
   "source": [
    "score = model_r.evaluate(test_padding,y_test.toarray()) \n",
    "print(\"Testing Accuracy(%): \", score[1]*100)"
   ]
  },
  {
   "cell_type": "code",
   "execution_count": 93,
   "metadata": {
    "executionInfo": {
     "elapsed": 1157,
     "status": "ok",
     "timestamp": 1630122787971,
     "user": {
      "displayName": "Keny Patel",
      "photoUrl": "",
      "userId": "00178815288974504097"
     },
     "user_tz": -330
    },
    "id": "LL48aswxVpAa"
   },
   "outputs": [],
   "source": [
    "y_pred = model_r.predict(test_padding)\n",
    "y_predicted_labels = np.array([ np.argmax(i) for i in y_pred])\n",
    "y_test_labels = np.array([ np.argmax(i) for i in y_test])"
   ]
  },
  {
   "cell_type": "code",
   "execution_count": null,
   "metadata": {},
   "outputs": [],
   "source": []
  }
 ],
 "metadata": {
  "accelerator": "GPU",
  "colab": {
   "collapsed_sections": [
    "AehtmhrTMkDj",
    "792COa9PMkDl",
    "RmG7VBeHMkDt"
   ],
   "name": "Sentiment Analysis.ipynb",
   "provenance": []
  },
  "kernelspec": {
   "display_name": "Python 3",
   "language": "python",
   "name": "python3"
  },
  "language_info": {
   "codemirror_mode": {
    "name": "ipython",
    "version": 3
   },
   "file_extension": ".py",
   "mimetype": "text/x-python",
   "name": "python",
   "nbconvert_exporter": "python",
   "pygments_lexer": "ipython3",
   "version": "3.9.7"
  }
 },
 "nbformat": 4,
 "nbformat_minor": 1
}
