{
 "cells": [
  {
   "cell_type": "code",
   "execution_count": 1,
   "metadata": {},
   "outputs": [],
   "source": [
    "import sklearn\n",
    "import numpy as np\n",
    "import pandas as pd"
   ]
  },
  {
   "cell_type": "code",
   "execution_count": 2,
   "metadata": {},
   "outputs": [],
   "source": [
    "train = pd.read_csv('tweets.csv')"
   ]
  },
  {
   "cell_type": "code",
   "execution_count": 3,
   "metadata": {},
   "outputs": [
    {
     "data": {
      "text/html": [
       "<div>\n",
       "<style scoped>\n",
       "    .dataframe tbody tr th:only-of-type {\n",
       "        vertical-align: middle;\n",
       "    }\n",
       "\n",
       "    .dataframe tbody tr th {\n",
       "        vertical-align: top;\n",
       "    }\n",
       "\n",
       "    .dataframe thead th {\n",
       "        text-align: right;\n",
       "    }\n",
       "</style>\n",
       "<table border=\"1\" class=\"dataframe\">\n",
       "  <thead>\n",
       "    <tr style=\"text-align: right;\">\n",
       "      <th></th>\n",
       "      <th>tweet</th>\n",
       "      <th>twitterHandlerused</th>\n",
       "      <th>label</th>\n",
       "      <th>fasttext_labels</th>\n",
       "      <th>Comparison_human&amp;ft</th>\n",
       "      <th>Labels_Manish_Krishna_Anu_Harvinder</th>\n",
       "      <th>2nd review</th>\n",
       "      <th>Final_labels</th>\n",
       "    </tr>\n",
       "  </thead>\n",
       "  <tbody>\n",
       "    <tr>\n",
       "      <th>0</th>\n",
       "      <td>@HatePatroller All @mindvalley students are li...</td>\n",
       "      <td>@mindvalley</td>\n",
       "      <td>Neutral</td>\n",
       "      <td>Neutral</td>\n",
       "      <td>NaN</td>\n",
       "      <td>Neutral</td>\n",
       "      <td>NaN</td>\n",
       "      <td>Neutral</td>\n",
       "    </tr>\n",
       "    <tr>\n",
       "      <th>1</th>\n",
       "      <td>RT @AlphaGammaHQ: Conferences are great platfo...</td>\n",
       "      <td>@mindvalley</td>\n",
       "      <td>Positive</td>\n",
       "      <td>Positive</td>\n",
       "      <td>NaN</td>\n",
       "      <td>Neutral</td>\n",
       "      <td>NaN</td>\n",
       "      <td>Positive</td>\n",
       "    </tr>\n",
       "    <tr>\n",
       "      <th>2</th>\n",
       "      <td>@AlphaGammaHQ @wobi_en @GIFLondon @Esportsbzsu...</td>\n",
       "      <td>@mindvalley</td>\n",
       "      <td>Positive</td>\n",
       "      <td>Positive</td>\n",
       "      <td>NaN</td>\n",
       "      <td>NaN</td>\n",
       "      <td>NaN</td>\n",
       "      <td>Positive</td>\n",
       "    </tr>\n",
       "    <tr>\n",
       "      <th>3</th>\n",
       "      <td>RT @mindvalley: You asked, we delivered. ÃƒÂ°Ã...</td>\n",
       "      <td>@mindvalley</td>\n",
       "      <td>Neutral</td>\n",
       "      <td>Neutral</td>\n",
       "      <td>NaN</td>\n",
       "      <td>NaN</td>\n",
       "      <td>NaN</td>\n",
       "      <td>Neutral</td>\n",
       "    </tr>\n",
       "    <tr>\n",
       "      <th>4</th>\n",
       "      <td>@dubeji18 Check this one out by @thesleepdocto...</td>\n",
       "      <td>@mindvalley</td>\n",
       "      <td>Neutral</td>\n",
       "      <td>Neutral</td>\n",
       "      <td>NaN</td>\n",
       "      <td>NaN</td>\n",
       "      <td>NaN</td>\n",
       "      <td>Neutral</td>\n",
       "    </tr>\n",
       "  </tbody>\n",
       "</table>\n",
       "</div>"
      ],
      "text/plain": [
       "                                               tweet twitterHandlerused  \\\n",
       "0  @HatePatroller All @mindvalley students are li...        @mindvalley   \n",
       "1  RT @AlphaGammaHQ: Conferences are great platfo...        @mindvalley   \n",
       "2  @AlphaGammaHQ @wobi_en @GIFLondon @Esportsbzsu...        @mindvalley   \n",
       "3  RT @mindvalley: You asked, we delivered. ÃƒÂ°Ã...        @mindvalley   \n",
       "4  @dubeji18 Check this one out by @thesleepdocto...        @mindvalley   \n",
       "\n",
       "      label fasttext_labels Comparison_human&ft  \\\n",
       "0   Neutral         Neutral                 NaN   \n",
       "1  Positive        Positive                 NaN   \n",
       "2  Positive        Positive                 NaN   \n",
       "3   Neutral         Neutral                 NaN   \n",
       "4   Neutral         Neutral                 NaN   \n",
       "\n",
       "  Labels_Manish_Krishna_Anu_Harvinder  2nd review Final_labels  \n",
       "0                             Neutral         NaN      Neutral  \n",
       "1                             Neutral         NaN     Positive  \n",
       "2                                 NaN         NaN     Positive  \n",
       "3                                 NaN         NaN      Neutral  \n",
       "4                                 NaN         NaN      Neutral  "
      ]
     },
     "execution_count": 3,
     "metadata": {},
     "output_type": "execute_result"
    }
   ],
   "source": [
    "train.head()"
   ]
  },
  {
   "cell_type": "code",
   "execution_count": 4,
   "metadata": {},
   "outputs": [],
   "source": [
    "train=train[['tweet', 'Final_labels']]"
   ]
  },
  {
   "cell_type": "code",
   "execution_count": 5,
   "metadata": {},
   "outputs": [
    {
     "data": {
      "text/html": [
       "<div>\n",
       "<style scoped>\n",
       "    .dataframe tbody tr th:only-of-type {\n",
       "        vertical-align: middle;\n",
       "    }\n",
       "\n",
       "    .dataframe tbody tr th {\n",
       "        vertical-align: top;\n",
       "    }\n",
       "\n",
       "    .dataframe thead th {\n",
       "        text-align: right;\n",
       "    }\n",
       "</style>\n",
       "<table border=\"1\" class=\"dataframe\">\n",
       "  <thead>\n",
       "    <tr style=\"text-align: right;\">\n",
       "      <th></th>\n",
       "      <th>tweet</th>\n",
       "      <th>Final_labels</th>\n",
       "    </tr>\n",
       "  </thead>\n",
       "  <tbody>\n",
       "    <tr>\n",
       "      <th>0</th>\n",
       "      <td>@HatePatroller All @mindvalley students are li...</td>\n",
       "      <td>Neutral</td>\n",
       "    </tr>\n",
       "    <tr>\n",
       "      <th>1</th>\n",
       "      <td>RT @AlphaGammaHQ: Conferences are great platfo...</td>\n",
       "      <td>Positive</td>\n",
       "    </tr>\n",
       "    <tr>\n",
       "      <th>2</th>\n",
       "      <td>@AlphaGammaHQ @wobi_en @GIFLondon @Esportsbzsu...</td>\n",
       "      <td>Positive</td>\n",
       "    </tr>\n",
       "    <tr>\n",
       "      <th>3</th>\n",
       "      <td>RT @mindvalley: You asked, we delivered. ÃƒÂ°Ã...</td>\n",
       "      <td>Neutral</td>\n",
       "    </tr>\n",
       "    <tr>\n",
       "      <th>4</th>\n",
       "      <td>@dubeji18 Check this one out by @thesleepdocto...</td>\n",
       "      <td>Neutral</td>\n",
       "    </tr>\n",
       "    <tr>\n",
       "      <th>...</th>\n",
       "      <td>...</td>\n",
       "      <td>...</td>\n",
       "    </tr>\n",
       "    <tr>\n",
       "      <th>4099</th>\n",
       "      <td>@SatoshiMelange @TheLittleElk @HSBC_UK @Shelte...</td>\n",
       "      <td>Negative</td>\n",
       "    </tr>\n",
       "    <tr>\n",
       "      <th>4100</th>\n",
       "      <td>@salcido_mm @SatoshiMelange @TheLittleElk @HSB...</td>\n",
       "      <td>Neutral</td>\n",
       "    </tr>\n",
       "    <tr>\n",
       "      <th>4101</th>\n",
       "      <td>hey @HSBC_UK i just got this this text is it r...</td>\n",
       "      <td>Negative</td>\n",
       "    </tr>\n",
       "    <tr>\n",
       "      <th>4102</th>\n",
       "      <td>@DiputsReggin @SatoshiMelange @TheLittleElk @H...</td>\n",
       "      <td>Negative</td>\n",
       "    </tr>\n",
       "    <tr>\n",
       "      <th>4103</th>\n",
       "      <td>@AverageAndBasic Thank you for letting us know...</td>\n",
       "      <td>Neutral</td>\n",
       "    </tr>\n",
       "  </tbody>\n",
       "</table>\n",
       "<p>4104 rows × 2 columns</p>\n",
       "</div>"
      ],
      "text/plain": [
       "                                                  tweet Final_labels\n",
       "0     @HatePatroller All @mindvalley students are li...      Neutral\n",
       "1     RT @AlphaGammaHQ: Conferences are great platfo...     Positive\n",
       "2     @AlphaGammaHQ @wobi_en @GIFLondon @Esportsbzsu...     Positive\n",
       "3     RT @mindvalley: You asked, we delivered. ÃƒÂ°Ã...      Neutral\n",
       "4     @dubeji18 Check this one out by @thesleepdocto...      Neutral\n",
       "...                                                 ...          ...\n",
       "4099  @SatoshiMelange @TheLittleElk @HSBC_UK @Shelte...     Negative\n",
       "4100  @salcido_mm @SatoshiMelange @TheLittleElk @HSB...      Neutral\n",
       "4101  hey @HSBC_UK i just got this this text is it r...     Negative\n",
       "4102  @DiputsReggin @SatoshiMelange @TheLittleElk @H...     Negative\n",
       "4103  @AverageAndBasic Thank you for letting us know...      Neutral\n",
       "\n",
       "[4104 rows x 2 columns]"
      ]
     },
     "execution_count": 5,
     "metadata": {},
     "output_type": "execute_result"
    }
   ],
   "source": [
    "train"
   ]
  },
  {
   "cell_type": "code",
   "execution_count": 6,
   "metadata": {},
   "outputs": [
    {
     "name": "stdout",
     "output_type": "stream",
     "text": [
      "942\n",
      "2692\n",
      "470\n"
     ]
    }
   ],
   "source": [
    "print(sum(train['Final_labels'] == 'Positive'))\n",
    "print(sum(train['Final_labels'] == 'Neutral'))\n",
    "print(sum(train['Final_labels'] == 'Negative'))"
   ]
  },
  {
   "cell_type": "code",
   "execution_count": 7,
   "metadata": {},
   "outputs": [
    {
     "data": {
      "text/plain": [
       "4104"
      ]
     },
     "execution_count": 7,
     "metadata": {},
     "output_type": "execute_result"
    }
   ],
   "source": [
    "len(train)"
   ]
  },
  {
   "cell_type": "code",
   "execution_count": 8,
   "metadata": {},
   "outputs": [
    {
     "name": "stdout",
     "output_type": "stream",
     "text": [
      "Requirement already satisfied: tweet-preprocessor in /home/feem/miniconda3/envs/nlp/lib/python3.9/site-packages (0.6.0)\n"
     ]
    }
   ],
   "source": [
    "!pip install tweet-preprocessor"
   ]
  },
  {
   "cell_type": "code",
   "execution_count": 9,
   "metadata": {},
   "outputs": [],
   "source": [
    "import preprocessor"
   ]
  },
  {
   "cell_type": "code",
   "execution_count": 13,
   "metadata": {},
   "outputs": [],
   "source": [
    "# def clean_tweets(df):\n",
    "#     tempArr = []\n",
    "#     for line in df:\n",
    "#         tempL = preprocessor.clean(line)\n",
    "#         tempArr.append(tempL)\n",
    "#     return tempArr"
   ]
  },
  {
   "cell_type": "code",
   "execution_count": 14,
   "metadata": {},
   "outputs": [],
   "source": [
    "# train_tweet = clean_tweets(train['tweet'])\n",
    "train_tweet = train['tweet']\n",
    "train_tweet = pd.DataFrame(train_tweet)\n"
   ]
  },
  {
   "cell_type": "code",
   "execution_count": 15,
   "metadata": {},
   "outputs": [
    {
     "data": {
      "text/html": [
       "<div>\n",
       "<style scoped>\n",
       "    .dataframe tbody tr th:only-of-type {\n",
       "        vertical-align: middle;\n",
       "    }\n",
       "\n",
       "    .dataframe tbody tr th {\n",
       "        vertical-align: top;\n",
       "    }\n",
       "\n",
       "    .dataframe thead th {\n",
       "        text-align: right;\n",
       "    }\n",
       "</style>\n",
       "<table border=\"1\" class=\"dataframe\">\n",
       "  <thead>\n",
       "    <tr style=\"text-align: right;\">\n",
       "      <th></th>\n",
       "      <th>tweet</th>\n",
       "      <th>Final_labels</th>\n",
       "      <th>clean_tweet</th>\n",
       "    </tr>\n",
       "  </thead>\n",
       "  <tbody>\n",
       "    <tr>\n",
       "      <th>0</th>\n",
       "      <td>@HatePatroller All @mindvalley students are li...</td>\n",
       "      <td>Neutral</td>\n",
       "      <td>@HatePatroller All @mindvalley students are li...</td>\n",
       "    </tr>\n",
       "    <tr>\n",
       "      <th>1</th>\n",
       "      <td>RT @AlphaGammaHQ: Conferences are great platfo...</td>\n",
       "      <td>Positive</td>\n",
       "      <td>RT @AlphaGammaHQ: Conferences are great platfo...</td>\n",
       "    </tr>\n",
       "    <tr>\n",
       "      <th>2</th>\n",
       "      <td>@AlphaGammaHQ @wobi_en @GIFLondon @Esportsbzsu...</td>\n",
       "      <td>Positive</td>\n",
       "      <td>@AlphaGammaHQ @wobi_en @GIFLondon @Esportsbzsu...</td>\n",
       "    </tr>\n",
       "    <tr>\n",
       "      <th>3</th>\n",
       "      <td>RT @mindvalley: You asked, we delivered. ÃƒÂ°Ã...</td>\n",
       "      <td>Neutral</td>\n",
       "      <td>RT @mindvalley: You asked, we delivered. ÃƒÂ°Ã...</td>\n",
       "    </tr>\n",
       "    <tr>\n",
       "      <th>4</th>\n",
       "      <td>@dubeji18 Check this one out by @thesleepdocto...</td>\n",
       "      <td>Neutral</td>\n",
       "      <td>@dubeji18 Check this one out by @thesleepdocto...</td>\n",
       "    </tr>\n",
       "  </tbody>\n",
       "</table>\n",
       "</div>"
      ],
      "text/plain": [
       "                                               tweet Final_labels  \\\n",
       "0  @HatePatroller All @mindvalley students are li...      Neutral   \n",
       "1  RT @AlphaGammaHQ: Conferences are great platfo...     Positive   \n",
       "2  @AlphaGammaHQ @wobi_en @GIFLondon @Esportsbzsu...     Positive   \n",
       "3  RT @mindvalley: You asked, we delivered. ÃƒÂ°Ã...      Neutral   \n",
       "4  @dubeji18 Check this one out by @thesleepdocto...      Neutral   \n",
       "\n",
       "                                         clean_tweet  \n",
       "0  @HatePatroller All @mindvalley students are li...  \n",
       "1  RT @AlphaGammaHQ: Conferences are great platfo...  \n",
       "2  @AlphaGammaHQ @wobi_en @GIFLondon @Esportsbzsu...  \n",
       "3  RT @mindvalley: You asked, we delivered. ÃƒÂ°Ã...  \n",
       "4  @dubeji18 Check this one out by @thesleepdocto...  "
      ]
     },
     "execution_count": 15,
     "metadata": {},
     "output_type": "execute_result"
    }
   ],
   "source": [
    "train['clean_tweet'] = train_tweet\n",
    "train.head()"
   ]
  },
  {
   "cell_type": "code",
   "execution_count": 16,
   "metadata": {},
   "outputs": [],
   "source": [
    "from sklearn.model_selection import train_test_split\n",
    "\n",
    "y = train.Final_labels.values\n",
    "x_train, x_test, y_train, y_test = train_test_split(train.clean_tweet.values, y, random_state=1, test_size=0.1, shuffle=True)"
   ]
  },
  {
   "cell_type": "code",
   "execution_count": 17,
   "metadata": {},
   "outputs": [],
   "source": [
    "from sklearn.feature_extraction.text import CountVectorizer\n",
    "\n",
    "vectorizer = CountVectorizer(binary=True, stop_words='english')\n",
    "\n",
    "vectorizer.fit(list(x_train) + list(x_test))\n",
    "\n",
    "x_train_vec = vectorizer.transform(x_train)\n",
    "x_test_vec = vectorizer.transform(x_test)"
   ]
  },
  {
   "cell_type": "code",
   "execution_count": 18,
   "metadata": {},
   "outputs": [],
   "source": [
    "from sklearn import svm\n",
    "\n",
    "svm = svm.SVC(kernel='linear', probability=True)\n",
    "\n",
    "prob = svm.fit(x_train_vec, y_train).predict_proba(x_train_vec)\n",
    "\n",
    "y_pred_svm = svm.predict(x_test_vec)"
   ]
  },
  {
   "cell_type": "code",
   "execution_count": 19,
   "metadata": {},
   "outputs": [
    {
     "name": "stdout",
     "output_type": "stream",
     "text": [
      "82.48175182481752\n"
     ]
    }
   ],
   "source": [
    "from sklearn.metrics import accuracy_score\n",
    "print(accuracy_score(y_test, y_pred_svm)*100)"
   ]
  },
  {
   "cell_type": "code",
   "execution_count": null,
   "metadata": {},
   "outputs": [],
   "source": []
  }
 ],
 "metadata": {
  "interpreter": {
   "hash": "916dbcbb3f70747c44a77c7bcd40155683ae19c65e1c03b4aa3499c5328201f1"
  },
  "kernelspec": {
   "display_name": "Python 3.8.10 64-bit",
   "language": "python",
   "name": "python3"
  },
  "language_info": {
   "codemirror_mode": {
    "name": "ipython",
    "version": 3
   },
   "file_extension": ".py",
   "mimetype": "text/x-python",
   "name": "python",
   "nbconvert_exporter": "python",
   "pygments_lexer": "ipython3",
   "version": "3.9.7"
  },
  "orig_nbformat": 4
 },
 "nbformat": 4,
 "nbformat_minor": 2
}
